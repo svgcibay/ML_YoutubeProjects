{
  "nbformat": 4,
  "nbformat_minor": 0,
  "metadata": {
    "colab": {
      "provenance": []
    },
    "kernelspec": {
      "name": "python3",
      "display_name": "Python 3"
    },
    "language_info": {
      "name": "python"
    }
  },
  "cells": [
    {
      "cell_type": "code",
      "source": [
        "#Random Forest Classifier - Sklearn"
      ],
      "metadata": {
        "id": "KXKUASpMfL82"
      },
      "execution_count": null,
      "outputs": []
    },
    {
      "cell_type": "code",
      "execution_count": null,
      "metadata": {
        "id": "RYaAwZTzvdJ9"
      },
      "outputs": [],
      "source": [
        "import pandas as pd\n",
        "import numpy as np\n",
        "from sklearn.tree import DecisionTreeClassifier,export_graphviz\n",
        "import graphviz\n",
        "from sklearn.model_selection import train_test_split"
      ]
    },
    {
      "cell_type": "code",
      "source": [
        "df=pd.read_csv('heart.csv')\n",
        "df.head(3)"
      ],
      "metadata": {
        "colab": {
          "base_uri": "https://localhost:8080/",
          "height": 143
        },
        "id": "6c-iXMTnx94O",
        "outputId": "26f56b7a-4edf-4810-e8a2-d963d499a826"
      },
      "execution_count": null,
      "outputs": [
        {
          "output_type": "execute_result",
          "data": {
            "text/plain": [
              "   age  sex  cp  trtbps  chol  fbs  restecg  thalachh  exng  oldpeak  slp  \\\n",
              "0   63    1   3     145   233    1        0       150     0      2.3    0   \n",
              "1   37    1   2     130   250    0        1       187     0      3.5    0   \n",
              "2   41    0   1     130   204    0        0       172     0      1.4    2   \n",
              "\n",
              "   caa  thall  output  \n",
              "0    0      1       1  \n",
              "1    0      2       1  \n",
              "2    0      2       1  "
            ],
            "text/html": [
              "\n",
              "  <div id=\"df-590dbab6-4568-4c81-85b3-e3720a27ffcb\" class=\"colab-df-container\">\n",
              "    <div>\n",
              "<style scoped>\n",
              "    .dataframe tbody tr th:only-of-type {\n",
              "        vertical-align: middle;\n",
              "    }\n",
              "\n",
              "    .dataframe tbody tr th {\n",
              "        vertical-align: top;\n",
              "    }\n",
              "\n",
              "    .dataframe thead th {\n",
              "        text-align: right;\n",
              "    }\n",
              "</style>\n",
              "<table border=\"1\" class=\"dataframe\">\n",
              "  <thead>\n",
              "    <tr style=\"text-align: right;\">\n",
              "      <th></th>\n",
              "      <th>age</th>\n",
              "      <th>sex</th>\n",
              "      <th>cp</th>\n",
              "      <th>trtbps</th>\n",
              "      <th>chol</th>\n",
              "      <th>fbs</th>\n",
              "      <th>restecg</th>\n",
              "      <th>thalachh</th>\n",
              "      <th>exng</th>\n",
              "      <th>oldpeak</th>\n",
              "      <th>slp</th>\n",
              "      <th>caa</th>\n",
              "      <th>thall</th>\n",
              "      <th>output</th>\n",
              "    </tr>\n",
              "  </thead>\n",
              "  <tbody>\n",
              "    <tr>\n",
              "      <th>0</th>\n",
              "      <td>63</td>\n",
              "      <td>1</td>\n",
              "      <td>3</td>\n",
              "      <td>145</td>\n",
              "      <td>233</td>\n",
              "      <td>1</td>\n",
              "      <td>0</td>\n",
              "      <td>150</td>\n",
              "      <td>0</td>\n",
              "      <td>2.3</td>\n",
              "      <td>0</td>\n",
              "      <td>0</td>\n",
              "      <td>1</td>\n",
              "      <td>1</td>\n",
              "    </tr>\n",
              "    <tr>\n",
              "      <th>1</th>\n",
              "      <td>37</td>\n",
              "      <td>1</td>\n",
              "      <td>2</td>\n",
              "      <td>130</td>\n",
              "      <td>250</td>\n",
              "      <td>0</td>\n",
              "      <td>1</td>\n",
              "      <td>187</td>\n",
              "      <td>0</td>\n",
              "      <td>3.5</td>\n",
              "      <td>0</td>\n",
              "      <td>0</td>\n",
              "      <td>2</td>\n",
              "      <td>1</td>\n",
              "    </tr>\n",
              "    <tr>\n",
              "      <th>2</th>\n",
              "      <td>41</td>\n",
              "      <td>0</td>\n",
              "      <td>1</td>\n",
              "      <td>130</td>\n",
              "      <td>204</td>\n",
              "      <td>0</td>\n",
              "      <td>0</td>\n",
              "      <td>172</td>\n",
              "      <td>0</td>\n",
              "      <td>1.4</td>\n",
              "      <td>2</td>\n",
              "      <td>0</td>\n",
              "      <td>2</td>\n",
              "      <td>1</td>\n",
              "    </tr>\n",
              "  </tbody>\n",
              "</table>\n",
              "</div>\n",
              "    <div class=\"colab-df-buttons\">\n",
              "\n",
              "  <div class=\"colab-df-container\">\n",
              "    <button class=\"colab-df-convert\" onclick=\"convertToInteractive('df-590dbab6-4568-4c81-85b3-e3720a27ffcb')\"\n",
              "            title=\"Convert this dataframe to an interactive table.\"\n",
              "            style=\"display:none;\">\n",
              "\n",
              "  <svg xmlns=\"http://www.w3.org/2000/svg\" height=\"24px\" viewBox=\"0 -960 960 960\">\n",
              "    <path d=\"M120-120v-720h720v720H120Zm60-500h600v-160H180v160Zm220 220h160v-160H400v160Zm0 220h160v-160H400v160ZM180-400h160v-160H180v160Zm440 0h160v-160H620v160ZM180-180h160v-160H180v160Zm440 0h160v-160H620v160Z\"/>\n",
              "  </svg>\n",
              "    </button>\n",
              "\n",
              "  <style>\n",
              "    .colab-df-container {\n",
              "      display:flex;\n",
              "      gap: 12px;\n",
              "    }\n",
              "\n",
              "    .colab-df-convert {\n",
              "      background-color: #E8F0FE;\n",
              "      border: none;\n",
              "      border-radius: 50%;\n",
              "      cursor: pointer;\n",
              "      display: none;\n",
              "      fill: #1967D2;\n",
              "      height: 32px;\n",
              "      padding: 0 0 0 0;\n",
              "      width: 32px;\n",
              "    }\n",
              "\n",
              "    .colab-df-convert:hover {\n",
              "      background-color: #E2EBFA;\n",
              "      box-shadow: 0px 1px 2px rgba(60, 64, 67, 0.3), 0px 1px 3px 1px rgba(60, 64, 67, 0.15);\n",
              "      fill: #174EA6;\n",
              "    }\n",
              "\n",
              "    .colab-df-buttons div {\n",
              "      margin-bottom: 4px;\n",
              "    }\n",
              "\n",
              "    [theme=dark] .colab-df-convert {\n",
              "      background-color: #3B4455;\n",
              "      fill: #D2E3FC;\n",
              "    }\n",
              "\n",
              "    [theme=dark] .colab-df-convert:hover {\n",
              "      background-color: #434B5C;\n",
              "      box-shadow: 0px 1px 3px 1px rgba(0, 0, 0, 0.15);\n",
              "      filter: drop-shadow(0px 1px 2px rgba(0, 0, 0, 0.3));\n",
              "      fill: #FFFFFF;\n",
              "    }\n",
              "  </style>\n",
              "\n",
              "    <script>\n",
              "      const buttonEl =\n",
              "        document.querySelector('#df-590dbab6-4568-4c81-85b3-e3720a27ffcb button.colab-df-convert');\n",
              "      buttonEl.style.display =\n",
              "        google.colab.kernel.accessAllowed ? 'block' : 'none';\n",
              "\n",
              "      async function convertToInteractive(key) {\n",
              "        const element = document.querySelector('#df-590dbab6-4568-4c81-85b3-e3720a27ffcb');\n",
              "        const dataTable =\n",
              "          await google.colab.kernel.invokeFunction('convertToInteractive',\n",
              "                                                    [key], {});\n",
              "        if (!dataTable) return;\n",
              "\n",
              "        const docLinkHtml = 'Like what you see? Visit the ' +\n",
              "          '<a target=\"_blank\" href=https://colab.research.google.com/notebooks/data_table.ipynb>data table notebook</a>'\n",
              "          + ' to learn more about interactive tables.';\n",
              "        element.innerHTML = '';\n",
              "        dataTable['output_type'] = 'display_data';\n",
              "        await google.colab.output.renderOutput(dataTable, element);\n",
              "        const docLink = document.createElement('div');\n",
              "        docLink.innerHTML = docLinkHtml;\n",
              "        element.appendChild(docLink);\n",
              "      }\n",
              "    </script>\n",
              "  </div>\n",
              "\n",
              "\n",
              "<div id=\"df-8399c376-437e-479c-8a89-4c3f9cd06a37\">\n",
              "  <button class=\"colab-df-quickchart\" onclick=\"quickchart('df-8399c376-437e-479c-8a89-4c3f9cd06a37')\"\n",
              "            title=\"Suggest charts\"\n",
              "            style=\"display:none;\">\n",
              "\n",
              "<svg xmlns=\"http://www.w3.org/2000/svg\" height=\"24px\"viewBox=\"0 0 24 24\"\n",
              "     width=\"24px\">\n",
              "    <g>\n",
              "        <path d=\"M19 3H5c-1.1 0-2 .9-2 2v14c0 1.1.9 2 2 2h14c1.1 0 2-.9 2-2V5c0-1.1-.9-2-2-2zM9 17H7v-7h2v7zm4 0h-2V7h2v10zm4 0h-2v-4h2v4z\"/>\n",
              "    </g>\n",
              "</svg>\n",
              "  </button>\n",
              "\n",
              "<style>\n",
              "  .colab-df-quickchart {\n",
              "      --bg-color: #E8F0FE;\n",
              "      --fill-color: #1967D2;\n",
              "      --hover-bg-color: #E2EBFA;\n",
              "      --hover-fill-color: #174EA6;\n",
              "      --disabled-fill-color: #AAA;\n",
              "      --disabled-bg-color: #DDD;\n",
              "  }\n",
              "\n",
              "  [theme=dark] .colab-df-quickchart {\n",
              "      --bg-color: #3B4455;\n",
              "      --fill-color: #D2E3FC;\n",
              "      --hover-bg-color: #434B5C;\n",
              "      --hover-fill-color: #FFFFFF;\n",
              "      --disabled-bg-color: #3B4455;\n",
              "      --disabled-fill-color: #666;\n",
              "  }\n",
              "\n",
              "  .colab-df-quickchart {\n",
              "    background-color: var(--bg-color);\n",
              "    border: none;\n",
              "    border-radius: 50%;\n",
              "    cursor: pointer;\n",
              "    display: none;\n",
              "    fill: var(--fill-color);\n",
              "    height: 32px;\n",
              "    padding: 0;\n",
              "    width: 32px;\n",
              "  }\n",
              "\n",
              "  .colab-df-quickchart:hover {\n",
              "    background-color: var(--hover-bg-color);\n",
              "    box-shadow: 0 1px 2px rgba(60, 64, 67, 0.3), 0 1px 3px 1px rgba(60, 64, 67, 0.15);\n",
              "    fill: var(--button-hover-fill-color);\n",
              "  }\n",
              "\n",
              "  .colab-df-quickchart-complete:disabled,\n",
              "  .colab-df-quickchart-complete:disabled:hover {\n",
              "    background-color: var(--disabled-bg-color);\n",
              "    fill: var(--disabled-fill-color);\n",
              "    box-shadow: none;\n",
              "  }\n",
              "\n",
              "  .colab-df-spinner {\n",
              "    border: 2px solid var(--fill-color);\n",
              "    border-color: transparent;\n",
              "    border-bottom-color: var(--fill-color);\n",
              "    animation:\n",
              "      spin 1s steps(1) infinite;\n",
              "  }\n",
              "\n",
              "  @keyframes spin {\n",
              "    0% {\n",
              "      border-color: transparent;\n",
              "      border-bottom-color: var(--fill-color);\n",
              "      border-left-color: var(--fill-color);\n",
              "    }\n",
              "    20% {\n",
              "      border-color: transparent;\n",
              "      border-left-color: var(--fill-color);\n",
              "      border-top-color: var(--fill-color);\n",
              "    }\n",
              "    30% {\n",
              "      border-color: transparent;\n",
              "      border-left-color: var(--fill-color);\n",
              "      border-top-color: var(--fill-color);\n",
              "      border-right-color: var(--fill-color);\n",
              "    }\n",
              "    40% {\n",
              "      border-color: transparent;\n",
              "      border-right-color: var(--fill-color);\n",
              "      border-top-color: var(--fill-color);\n",
              "    }\n",
              "    60% {\n",
              "      border-color: transparent;\n",
              "      border-right-color: var(--fill-color);\n",
              "    }\n",
              "    80% {\n",
              "      border-color: transparent;\n",
              "      border-right-color: var(--fill-color);\n",
              "      border-bottom-color: var(--fill-color);\n",
              "    }\n",
              "    90% {\n",
              "      border-color: transparent;\n",
              "      border-bottom-color: var(--fill-color);\n",
              "    }\n",
              "  }\n",
              "</style>\n",
              "\n",
              "  <script>\n",
              "    async function quickchart(key) {\n",
              "      const quickchartButtonEl =\n",
              "        document.querySelector('#' + key + ' button');\n",
              "      quickchartButtonEl.disabled = true;  // To prevent multiple clicks.\n",
              "      quickchartButtonEl.classList.add('colab-df-spinner');\n",
              "      try {\n",
              "        const charts = await google.colab.kernel.invokeFunction(\n",
              "            'suggestCharts', [key], {});\n",
              "      } catch (error) {\n",
              "        console.error('Error during call to suggestCharts:', error);\n",
              "      }\n",
              "      quickchartButtonEl.classList.remove('colab-df-spinner');\n",
              "      quickchartButtonEl.classList.add('colab-df-quickchart-complete');\n",
              "    }\n",
              "    (() => {\n",
              "      let quickchartButtonEl =\n",
              "        document.querySelector('#df-8399c376-437e-479c-8a89-4c3f9cd06a37 button');\n",
              "      quickchartButtonEl.style.display =\n",
              "        google.colab.kernel.accessAllowed ? 'block' : 'none';\n",
              "    })();\n",
              "  </script>\n",
              "</div>\n",
              "\n",
              "    </div>\n",
              "  </div>\n"
            ]
          },
          "metadata": {},
          "execution_count": 9
        }
      ]
    },
    {
      "cell_type": "code",
      "source": [
        "df.info()"
      ],
      "metadata": {
        "colab": {
          "base_uri": "https://localhost:8080/"
        },
        "id": "XhILRxTHzObD",
        "outputId": "8ad6af73-1d47-4afb-f92d-d93221a8e544"
      },
      "execution_count": null,
      "outputs": [
        {
          "output_type": "stream",
          "name": "stdout",
          "text": [
            "<class 'pandas.core.frame.DataFrame'>\n",
            "RangeIndex: 303 entries, 0 to 302\n",
            "Data columns (total 14 columns):\n",
            " #   Column    Non-Null Count  Dtype  \n",
            "---  ------    --------------  -----  \n",
            " 0   age       303 non-null    int64  \n",
            " 1   sex       303 non-null    int64  \n",
            " 2   cp        303 non-null    int64  \n",
            " 3   trtbps    303 non-null    int64  \n",
            " 4   chol      303 non-null    int64  \n",
            " 5   fbs       303 non-null    int64  \n",
            " 6   restecg   303 non-null    int64  \n",
            " 7   thalachh  303 non-null    int64  \n",
            " 8   exng      303 non-null    int64  \n",
            " 9   oldpeak   303 non-null    float64\n",
            " 10  slp       303 non-null    int64  \n",
            " 11  caa       303 non-null    int64  \n",
            " 12  thall     303 non-null    int64  \n",
            " 13  output    303 non-null    int64  \n",
            "dtypes: float64(1), int64(13)\n",
            "memory usage: 33.3 KB\n"
          ]
        }
      ]
    },
    {
      "cell_type": "code",
      "source": [
        "y=df['output']\n",
        "x=df.drop(\"output\",axis=1)\n"
      ],
      "metadata": {
        "id": "0c__IL7JyA6M"
      },
      "execution_count": null,
      "outputs": []
    },
    {
      "cell_type": "code",
      "source": [
        "tree=DecisionTreeClassifier()\n",
        "model=tree.fit(x,y)"
      ],
      "metadata": {
        "id": "CA8RJFRDybA0"
      },
      "execution_count": null,
      "outputs": []
    },
    {
      "cell_type": "code",
      "source": [
        "model.score(x,y)"
      ],
      "metadata": {
        "colab": {
          "base_uri": "https://localhost:8080/"
        },
        "id": "pyZEP62by3jr",
        "outputId": "fa5cd966-fbb3-4da3-99ae-630f1e96d61c"
      },
      "execution_count": null,
      "outputs": [
        {
          "output_type": "execute_result",
          "data": {
            "text/plain": [
              "1.0"
            ]
          },
          "metadata": {},
          "execution_count": 13
        }
      ]
    },
    {
      "cell_type": "code",
      "source": [
        "x_train,x_test,y_train,y_test=train_test_split(x,y,random_state=16,train_size=0.70)"
      ],
      "metadata": {
        "id": "123q2lwQzbPn"
      },
      "execution_count": null,
      "outputs": []
    },
    {
      "cell_type": "code",
      "source": [
        "# Train Test Split ile\n",
        "\n",
        "tree=DecisionTreeClassifier()\n",
        "model=tree.fit(x_train,y_train)\n",
        "model.score(x_test,y_test)"
      ],
      "metadata": {
        "colab": {
          "base_uri": "https://localhost:8080/"
        },
        "id": "dQaGTbcVy40M",
        "outputId": "b3dc7f20-1169-4f9d-d4e5-f294c45c0162"
      },
      "execution_count": null,
      "outputs": [
        {
          "output_type": "execute_result",
          "data": {
            "text/plain": [
              "0.7472527472527473"
            ]
          },
          "metadata": {},
          "execution_count": 8
        }
      ]
    },
    {
      "cell_type": "code",
      "source": [],
      "metadata": {
        "id": "O7CtbLZZzmIp"
      },
      "execution_count": null,
      "outputs": []
    },
    {
      "cell_type": "code",
      "source": [
        "model.predict([[31,1,2,130,240,0,0,150,0,2,0,0,2]])"
      ],
      "metadata": {
        "colab": {
          "base_uri": "https://localhost:8080/"
        },
        "id": "mEw6AQ-EzwTO",
        "outputId": "bbea6942-b02b-4f71-a9a5-daf6dae9e423"
      },
      "execution_count": null,
      "outputs": [
        {
          "output_type": "stream",
          "name": "stderr",
          "text": [
            "/usr/local/lib/python3.10/dist-packages/sklearn/base.py:439: UserWarning: X does not have valid feature names, but DecisionTreeClassifier was fitted with feature names\n",
            "  warnings.warn(\n"
          ]
        },
        {
          "output_type": "execute_result",
          "data": {
            "text/plain": [
              "array([1])"
            ]
          },
          "metadata": {},
          "execution_count": 14
        }
      ]
    },
    {
      "cell_type": "code",
      "source": [
        "dot=export_graphviz(model,feature_names=x.columns,filled=True)\n",
        "gorsel=graphviz.Source(dot)\n",
        "gorsel"
      ],
      "metadata": {
        "colab": {
          "base_uri": "https://localhost:8080/",
          "height": 1000
        },
        "id": "zak81RZhz-8j",
        "outputId": "640c65ce-eb15-40a4-8493-341faa8b4d42"
      },
      "execution_count": null,
      "outputs": [
        {
          "output_type": "execute_result",
          "data": {
            "image/svg+xml": "<?xml version=\"1.0\" encoding=\"UTF-8\" standalone=\"no\"?>\n<!DOCTYPE svg PUBLIC \"-//W3C//DTD SVG 1.1//EN\"\n \"http://www.w3.org/Graphics/SVG/1.1/DTD/svg11.dtd\">\n<!-- Generated by graphviz version 2.43.0 (0)\n -->\n<!-- Title: Tree Pages: 1 -->\n<svg width=\"2694pt\" height=\"1101pt\"\n viewBox=\"0.00 0.00 2694.00 1101.00\" xmlns=\"http://www.w3.org/2000/svg\" xmlns:xlink=\"http://www.w3.org/1999/xlink\">\n<g id=\"graph0\" class=\"graph\" transform=\"scale(1 1) rotate(0) translate(4 1097)\">\n<title>Tree</title>\n<polygon fill=\"white\" stroke=\"transparent\" points=\"-4,4 -4,-1097 2690,-1097 2690,4 -4,4\"/>\n<!-- 0 -->\n<g id=\"node1\" class=\"node\">\n<title>0</title>\n<polygon fill=\"#dfeffb\" stroke=\"black\" points=\"1350,-1093 1225,-1093 1225,-1025 1350,-1025 1350,-1093\"/>\n<text text-anchor=\"middle\" x=\"1287.5\" y=\"-1077.8\" font-family=\"Helvetica,sans-Serif\" font-size=\"14.00\">cp &lt;= 0.5</text>\n<text text-anchor=\"middle\" x=\"1287.5\" y=\"-1062.8\" font-family=\"Helvetica,sans-Serif\" font-size=\"14.00\">gini = 0.496</text>\n<text text-anchor=\"middle\" x=\"1287.5\" y=\"-1047.8\" font-family=\"Helvetica,sans-Serif\" font-size=\"14.00\">samples = 303</text>\n<text text-anchor=\"middle\" x=\"1287.5\" y=\"-1032.8\" font-family=\"Helvetica,sans-Serif\" font-size=\"14.00\">value = [138, 165]</text>\n</g>\n<!-- 1 -->\n<g id=\"node2\" class=\"node\">\n<title>1</title>\n<polygon fill=\"#efb083\" stroke=\"black\" points=\"982,-989 865,-989 865,-921 982,-921 982,-989\"/>\n<text text-anchor=\"middle\" x=\"923.5\" y=\"-973.8\" font-family=\"Helvetica,sans-Serif\" font-size=\"14.00\">caa &lt;= 0.5</text>\n<text text-anchor=\"middle\" x=\"923.5\" y=\"-958.8\" font-family=\"Helvetica,sans-Serif\" font-size=\"14.00\">gini = 0.397</text>\n<text text-anchor=\"middle\" x=\"923.5\" y=\"-943.8\" font-family=\"Helvetica,sans-Serif\" font-size=\"14.00\">samples = 143</text>\n<text text-anchor=\"middle\" x=\"923.5\" y=\"-928.8\" font-family=\"Helvetica,sans-Serif\" font-size=\"14.00\">value = [104, 39]</text>\n</g>\n<!-- 0&#45;&gt;1 -->\n<g id=\"edge1\" class=\"edge\">\n<title>0&#45;&gt;1</title>\n<path fill=\"none\" stroke=\"black\" d=\"M1224.93,-1040.47C1160.16,-1022.32 1059.26,-994.04 992.29,-975.28\"/>\n<polygon fill=\"black\" stroke=\"black\" points=\"992.82,-971.79 982.25,-972.46 990.93,-978.53 992.82,-971.79\"/>\n<text text-anchor=\"middle\" x=\"994.5\" y=\"-990.55\" font-family=\"Helvetica,sans-Serif\" font-size=\"14.00\">True</text>\n</g>\n<!-- 38 -->\n<g id=\"node39\" class=\"node\">\n<title>38</title>\n<polygon fill=\"#6eb7ec\" stroke=\"black\" points=\"1798,-989 1681,-989 1681,-921 1798,-921 1798,-989\"/>\n<text text-anchor=\"middle\" x=\"1739.5\" y=\"-973.8\" font-family=\"Helvetica,sans-Serif\" font-size=\"14.00\">thall &lt;= 2.5</text>\n<text text-anchor=\"middle\" x=\"1739.5\" y=\"-958.8\" font-family=\"Helvetica,sans-Serif\" font-size=\"14.00\">gini = 0.335</text>\n<text text-anchor=\"middle\" x=\"1739.5\" y=\"-943.8\" font-family=\"Helvetica,sans-Serif\" font-size=\"14.00\">samples = 160</text>\n<text text-anchor=\"middle\" x=\"1739.5\" y=\"-928.8\" font-family=\"Helvetica,sans-Serif\" font-size=\"14.00\">value = [34, 126]</text>\n</g>\n<!-- 0&#45;&gt;38 -->\n<g id=\"edge38\" class=\"edge\">\n<title>0&#45;&gt;38</title>\n<path fill=\"none\" stroke=\"black\" d=\"M1350.35,-1043.82C1434.67,-1024.79 1583.87,-991.12 1670.98,-971.46\"/>\n<polygon fill=\"black\" stroke=\"black\" points=\"1671.79,-974.87 1680.77,-969.25 1670.25,-968.04 1671.79,-974.87\"/>\n<text text-anchor=\"middle\" x=\"1667.42\" y=\"-986.69\" font-family=\"Helvetica,sans-Serif\" font-size=\"14.00\">False</text>\n</g>\n<!-- 2 -->\n<g id=\"node3\" class=\"node\">\n<title>2</title>\n<polygon fill=\"#eef6fd\" stroke=\"black\" points=\"625.5,-885 515.5,-885 515.5,-817 625.5,-817 625.5,-885\"/>\n<text text-anchor=\"middle\" x=\"570.5\" y=\"-869.8\" font-family=\"Helvetica,sans-Serif\" font-size=\"14.00\">thall &lt;= 2.5</text>\n<text text-anchor=\"middle\" x=\"570.5\" y=\"-854.8\" font-family=\"Helvetica,sans-Serif\" font-size=\"14.00\">gini = 0.499</text>\n<text text-anchor=\"middle\" x=\"570.5\" y=\"-839.8\" font-family=\"Helvetica,sans-Serif\" font-size=\"14.00\">samples = 65</text>\n<text text-anchor=\"middle\" x=\"570.5\" y=\"-824.8\" font-family=\"Helvetica,sans-Serif\" font-size=\"14.00\">value = [31, 34]</text>\n</g>\n<!-- 1&#45;&gt;2 -->\n<g id=\"edge2\" class=\"edge\">\n<title>1&#45;&gt;2</title>\n<path fill=\"none\" stroke=\"black\" d=\"M864.81,-937.04C801.5,-918.75 700.98,-889.7 635.37,-870.74\"/>\n<polygon fill=\"black\" stroke=\"black\" points=\"636.13,-867.32 625.55,-867.91 634.18,-874.04 636.13,-867.32\"/>\n</g>\n<!-- 25 -->\n<g id=\"node26\" class=\"node\">\n<title>25</title>\n<polygon fill=\"#e78a47\" stroke=\"black\" points=\"977.5,-885 869.5,-885 869.5,-817 977.5,-817 977.5,-885\"/>\n<text text-anchor=\"middle\" x=\"923.5\" y=\"-869.8\" font-family=\"Helvetica,sans-Serif\" font-size=\"14.00\">trtbps &lt;= 109.0</text>\n<text text-anchor=\"middle\" x=\"923.5\" y=\"-854.8\" font-family=\"Helvetica,sans-Serif\" font-size=\"14.00\">gini = 0.12</text>\n<text text-anchor=\"middle\" x=\"923.5\" y=\"-839.8\" font-family=\"Helvetica,sans-Serif\" font-size=\"14.00\">samples = 78</text>\n<text text-anchor=\"middle\" x=\"923.5\" y=\"-824.8\" font-family=\"Helvetica,sans-Serif\" font-size=\"14.00\">value = [73, 5]</text>\n</g>\n<!-- 1&#45;&gt;25 -->\n<g id=\"edge25\" class=\"edge\">\n<title>1&#45;&gt;25</title>\n<path fill=\"none\" stroke=\"black\" d=\"M923.5,-920.88C923.5,-912.78 923.5,-903.98 923.5,-895.47\"/>\n<polygon fill=\"black\" stroke=\"black\" points=\"927,-895.3 923.5,-885.3 920,-895.3 927,-895.3\"/>\n</g>\n<!-- 3 -->\n<g id=\"node4\" class=\"node\">\n<title>3</title>\n<polygon fill=\"#76bbed\" stroke=\"black\" points=\"394.5,-781 292.5,-781 292.5,-713 394.5,-713 394.5,-781\"/>\n<text text-anchor=\"middle\" x=\"343.5\" y=\"-765.8\" font-family=\"Helvetica,sans-Serif\" font-size=\"14.00\">exng &lt;= 0.5</text>\n<text text-anchor=\"middle\" x=\"343.5\" y=\"-750.8\" font-family=\"Helvetica,sans-Serif\" font-size=\"14.00\">gini = 0.361</text>\n<text text-anchor=\"middle\" x=\"343.5\" y=\"-735.8\" font-family=\"Helvetica,sans-Serif\" font-size=\"14.00\">samples = 38</text>\n<text text-anchor=\"middle\" x=\"343.5\" y=\"-720.8\" font-family=\"Helvetica,sans-Serif\" font-size=\"14.00\">value = [9, 29]</text>\n</g>\n<!-- 2&#45;&gt;3 -->\n<g id=\"edge3\" class=\"edge\">\n<title>2&#45;&gt;3</title>\n<path fill=\"none\" stroke=\"black\" d=\"M515.26,-825.18C481.67,-810.09 438.74,-790.8 404.21,-775.28\"/>\n<polygon fill=\"black\" stroke=\"black\" points=\"405.26,-771.91 394.7,-771.01 402.39,-778.3 405.26,-771.91\"/>\n</g>\n<!-- 18 -->\n<g id=\"node19\" class=\"node\">\n<title>18</title>\n<polygon fill=\"#eb9e66\" stroke=\"black\" points=\"627.5,-781 513.5,-781 513.5,-713 627.5,-713 627.5,-781\"/>\n<text text-anchor=\"middle\" x=\"570.5\" y=\"-765.8\" font-family=\"Helvetica,sans-Serif\" font-size=\"14.00\">oldpeak &lt;= 0.65</text>\n<text text-anchor=\"middle\" x=\"570.5\" y=\"-750.8\" font-family=\"Helvetica,sans-Serif\" font-size=\"14.00\">gini = 0.302</text>\n<text text-anchor=\"middle\" x=\"570.5\" y=\"-735.8\" font-family=\"Helvetica,sans-Serif\" font-size=\"14.00\">samples = 27</text>\n<text text-anchor=\"middle\" x=\"570.5\" y=\"-720.8\" font-family=\"Helvetica,sans-Serif\" font-size=\"14.00\">value = [22, 5]</text>\n</g>\n<!-- 2&#45;&gt;18 -->\n<g id=\"edge18\" class=\"edge\">\n<title>2&#45;&gt;18</title>\n<path fill=\"none\" stroke=\"black\" d=\"M570.5,-816.88C570.5,-808.78 570.5,-799.98 570.5,-791.47\"/>\n<polygon fill=\"black\" stroke=\"black\" points=\"574,-791.3 570.5,-781.3 567,-791.3 574,-791.3\"/>\n</g>\n<!-- 4 -->\n<g id=\"node5\" class=\"node\">\n<title>4</title>\n<polygon fill=\"#4ba6e7\" stroke=\"black\" points=\"223.5,-677 105.5,-677 105.5,-609 223.5,-609 223.5,-677\"/>\n<text text-anchor=\"middle\" x=\"164.5\" y=\"-661.8\" font-family=\"Helvetica,sans-Serif\" font-size=\"14.00\">thalachh &lt;= 96.5</text>\n<text text-anchor=\"middle\" x=\"164.5\" y=\"-646.8\" font-family=\"Helvetica,sans-Serif\" font-size=\"14.00\">gini = 0.153</text>\n<text text-anchor=\"middle\" x=\"164.5\" y=\"-631.8\" font-family=\"Helvetica,sans-Serif\" font-size=\"14.00\">samples = 24</text>\n<text text-anchor=\"middle\" x=\"164.5\" y=\"-616.8\" font-family=\"Helvetica,sans-Serif\" font-size=\"14.00\">value = [2, 22]</text>\n</g>\n<!-- 3&#45;&gt;4 -->\n<g id=\"edge4\" class=\"edge\">\n<title>3&#45;&gt;4</title>\n<path fill=\"none\" stroke=\"black\" d=\"M292.21,-716.77C273.22,-705.95 251.4,-693.52 231.24,-682.03\"/>\n<polygon fill=\"black\" stroke=\"black\" points=\"232.84,-678.91 222.41,-677 229.37,-684.99 232.84,-678.91\"/>\n</g>\n<!-- 11 -->\n<g id=\"node12\" class=\"node\">\n<title>11</title>\n<polygon fill=\"#ffffff\" stroke=\"black\" points=\"395.5,-677 291.5,-677 291.5,-609 395.5,-609 395.5,-677\"/>\n<text text-anchor=\"middle\" x=\"343.5\" y=\"-661.8\" font-family=\"Helvetica,sans-Serif\" font-size=\"14.00\">restecg &lt;= 0.5</text>\n<text text-anchor=\"middle\" x=\"343.5\" y=\"-646.8\" font-family=\"Helvetica,sans-Serif\" font-size=\"14.00\">gini = 0.5</text>\n<text text-anchor=\"middle\" x=\"343.5\" y=\"-631.8\" font-family=\"Helvetica,sans-Serif\" font-size=\"14.00\">samples = 14</text>\n<text text-anchor=\"middle\" x=\"343.5\" y=\"-616.8\" font-family=\"Helvetica,sans-Serif\" font-size=\"14.00\">value = [7, 7]</text>\n</g>\n<!-- 3&#45;&gt;11 -->\n<g id=\"edge11\" class=\"edge\">\n<title>3&#45;&gt;11</title>\n<path fill=\"none\" stroke=\"black\" d=\"M343.5,-712.88C343.5,-704.78 343.5,-695.98 343.5,-687.47\"/>\n<polygon fill=\"black\" stroke=\"black\" points=\"347,-687.3 343.5,-677.3 340,-687.3 347,-687.3\"/>\n</g>\n<!-- 5 -->\n<g id=\"node6\" class=\"node\">\n<title>5</title>\n<polygon fill=\"#e58139\" stroke=\"black\" points=\"95,-565.5 0,-565.5 0,-512.5 95,-512.5 95,-565.5\"/>\n<text text-anchor=\"middle\" x=\"47.5\" y=\"-550.3\" font-family=\"Helvetica,sans-Serif\" font-size=\"14.00\">gini = 0.0</text>\n<text text-anchor=\"middle\" x=\"47.5\" y=\"-535.3\" font-family=\"Helvetica,sans-Serif\" font-size=\"14.00\">samples = 1</text>\n<text text-anchor=\"middle\" x=\"47.5\" y=\"-520.3\" font-family=\"Helvetica,sans-Serif\" font-size=\"14.00\">value = [1, 0]</text>\n</g>\n<!-- 4&#45;&gt;5 -->\n<g id=\"edge5\" class=\"edge\">\n<title>4&#45;&gt;5</title>\n<path fill=\"none\" stroke=\"black\" d=\"M126.51,-608.88C113.02,-597.12 97.85,-583.89 84.44,-572.2\"/>\n<polygon fill=\"black\" stroke=\"black\" points=\"86.61,-569.45 76.77,-565.52 82.01,-574.73 86.61,-569.45\"/>\n</g>\n<!-- 6 -->\n<g id=\"node7\" class=\"node\">\n<title>6</title>\n<polygon fill=\"#42a1e6\" stroke=\"black\" points=\"215.5,-573 113.5,-573 113.5,-505 215.5,-505 215.5,-573\"/>\n<text text-anchor=\"middle\" x=\"164.5\" y=\"-557.8\" font-family=\"Helvetica,sans-Serif\" font-size=\"14.00\">chol &lt;= 316.5</text>\n<text text-anchor=\"middle\" x=\"164.5\" y=\"-542.8\" font-family=\"Helvetica,sans-Serif\" font-size=\"14.00\">gini = 0.083</text>\n<text text-anchor=\"middle\" x=\"164.5\" y=\"-527.8\" font-family=\"Helvetica,sans-Serif\" font-size=\"14.00\">samples = 23</text>\n<text text-anchor=\"middle\" x=\"164.5\" y=\"-512.8\" font-family=\"Helvetica,sans-Serif\" font-size=\"14.00\">value = [1, 22]</text>\n</g>\n<!-- 4&#45;&gt;6 -->\n<g id=\"edge6\" class=\"edge\">\n<title>4&#45;&gt;6</title>\n<path fill=\"none\" stroke=\"black\" d=\"M164.5,-608.88C164.5,-600.78 164.5,-591.98 164.5,-583.47\"/>\n<polygon fill=\"black\" stroke=\"black\" points=\"168,-583.3 164.5,-573.3 161,-583.3 168,-583.3\"/>\n</g>\n<!-- 7 -->\n<g id=\"node8\" class=\"node\">\n<title>7</title>\n<polygon fill=\"#399de5\" stroke=\"black\" points=\"105.5,-461.5 3.5,-461.5 3.5,-408.5 105.5,-408.5 105.5,-461.5\"/>\n<text text-anchor=\"middle\" x=\"54.5\" y=\"-446.3\" font-family=\"Helvetica,sans-Serif\" font-size=\"14.00\">gini = 0.0</text>\n<text text-anchor=\"middle\" x=\"54.5\" y=\"-431.3\" font-family=\"Helvetica,sans-Serif\" font-size=\"14.00\">samples = 21</text>\n<text text-anchor=\"middle\" x=\"54.5\" y=\"-416.3\" font-family=\"Helvetica,sans-Serif\" font-size=\"14.00\">value = [0, 21]</text>\n</g>\n<!-- 6&#45;&gt;7 -->\n<g id=\"edge7\" class=\"edge\">\n<title>6&#45;&gt;7</title>\n<path fill=\"none\" stroke=\"black\" d=\"M128.79,-504.88C116.21,-493.23 102.1,-480.14 89.58,-468.53\"/>\n<polygon fill=\"black\" stroke=\"black\" points=\"91.73,-465.75 82.02,-461.52 86.97,-470.89 91.73,-465.75\"/>\n</g>\n<!-- 8 -->\n<g id=\"node9\" class=\"node\">\n<title>8</title>\n<polygon fill=\"#ffffff\" stroke=\"black\" points=\"231.5,-469 123.5,-469 123.5,-401 231.5,-401 231.5,-469\"/>\n<text text-anchor=\"middle\" x=\"177.5\" y=\"-453.8\" font-family=\"Helvetica,sans-Serif\" font-size=\"14.00\">trtbps &lt;= 135.0</text>\n<text text-anchor=\"middle\" x=\"177.5\" y=\"-438.8\" font-family=\"Helvetica,sans-Serif\" font-size=\"14.00\">gini = 0.5</text>\n<text text-anchor=\"middle\" x=\"177.5\" y=\"-423.8\" font-family=\"Helvetica,sans-Serif\" font-size=\"14.00\">samples = 2</text>\n<text text-anchor=\"middle\" x=\"177.5\" y=\"-408.8\" font-family=\"Helvetica,sans-Serif\" font-size=\"14.00\">value = [1, 1]</text>\n</g>\n<!-- 6&#45;&gt;8 -->\n<g id=\"edge8\" class=\"edge\">\n<title>6&#45;&gt;8</title>\n<path fill=\"none\" stroke=\"black\" d=\"M168.72,-504.88C169.75,-496.78 170.87,-487.98 171.96,-479.47\"/>\n<polygon fill=\"black\" stroke=\"black\" points=\"175.46,-479.66 173.26,-469.3 168.52,-478.78 175.46,-479.66\"/>\n</g>\n<!-- 9 -->\n<g id=\"node10\" class=\"node\">\n<title>9</title>\n<polygon fill=\"#e58139\" stroke=\"black\" points=\"141,-357.5 46,-357.5 46,-304.5 141,-304.5 141,-357.5\"/>\n<text text-anchor=\"middle\" x=\"93.5\" y=\"-342.3\" font-family=\"Helvetica,sans-Serif\" font-size=\"14.00\">gini = 0.0</text>\n<text text-anchor=\"middle\" x=\"93.5\" y=\"-327.3\" font-family=\"Helvetica,sans-Serif\" font-size=\"14.00\">samples = 1</text>\n<text text-anchor=\"middle\" x=\"93.5\" y=\"-312.3\" font-family=\"Helvetica,sans-Serif\" font-size=\"14.00\">value = [1, 0]</text>\n</g>\n<!-- 8&#45;&gt;9 -->\n<g id=\"edge9\" class=\"edge\">\n<title>8&#45;&gt;9</title>\n<path fill=\"none\" stroke=\"black\" d=\"M150.23,-400.88C140.9,-389.56 130.46,-376.88 121.11,-365.52\"/>\n<polygon fill=\"black\" stroke=\"black\" points=\"123.58,-363.01 114.52,-357.52 118.17,-367.46 123.58,-363.01\"/>\n</g>\n<!-- 10 -->\n<g id=\"node11\" class=\"node\">\n<title>10</title>\n<polygon fill=\"#399de5\" stroke=\"black\" points=\"254,-357.5 159,-357.5 159,-304.5 254,-304.5 254,-357.5\"/>\n<text text-anchor=\"middle\" x=\"206.5\" y=\"-342.3\" font-family=\"Helvetica,sans-Serif\" font-size=\"14.00\">gini = 0.0</text>\n<text text-anchor=\"middle\" x=\"206.5\" y=\"-327.3\" font-family=\"Helvetica,sans-Serif\" font-size=\"14.00\">samples = 1</text>\n<text text-anchor=\"middle\" x=\"206.5\" y=\"-312.3\" font-family=\"Helvetica,sans-Serif\" font-size=\"14.00\">value = [0, 1]</text>\n</g>\n<!-- 8&#45;&gt;10 -->\n<g id=\"edge10\" class=\"edge\">\n<title>8&#45;&gt;10</title>\n<path fill=\"none\" stroke=\"black\" d=\"M186.92,-400.88C189.98,-390.11 193.39,-378.11 196.5,-367.18\"/>\n<polygon fill=\"black\" stroke=\"black\" points=\"199.88,-368.1 199.24,-357.52 193.14,-366.18 199.88,-368.1\"/>\n</g>\n<!-- 12 -->\n<g id=\"node13\" class=\"node\">\n<title>12</title>\n<polygon fill=\"#399de5\" stroke=\"black\" points=\"329,-565.5 234,-565.5 234,-512.5 329,-512.5 329,-565.5\"/>\n<text text-anchor=\"middle\" x=\"281.5\" y=\"-550.3\" font-family=\"Helvetica,sans-Serif\" font-size=\"14.00\">gini = 0.0</text>\n<text text-anchor=\"middle\" x=\"281.5\" y=\"-535.3\" font-family=\"Helvetica,sans-Serif\" font-size=\"14.00\">samples = 4</text>\n<text text-anchor=\"middle\" x=\"281.5\" y=\"-520.3\" font-family=\"Helvetica,sans-Serif\" font-size=\"14.00\">value = [0, 4]</text>\n</g>\n<!-- 11&#45;&gt;12 -->\n<g id=\"edge12\" class=\"edge\">\n<title>11&#45;&gt;12</title>\n<path fill=\"none\" stroke=\"black\" d=\"M323.37,-608.88C316.62,-597.78 309.08,-585.37 302.28,-574.18\"/>\n<polygon fill=\"black\" stroke=\"black\" points=\"305.2,-572.25 297.01,-565.52 299.22,-575.88 305.2,-572.25\"/>\n</g>\n<!-- 13 -->\n<g id=\"node14\" class=\"node\">\n<title>13</title>\n<polygon fill=\"#f0b78e\" stroke=\"black\" points=\"445.5,-573 347.5,-573 347.5,-505 445.5,-505 445.5,-573\"/>\n<text text-anchor=\"middle\" x=\"396.5\" y=\"-557.8\" font-family=\"Helvetica,sans-Serif\" font-size=\"14.00\">slp &lt;= 1.5</text>\n<text text-anchor=\"middle\" x=\"396.5\" y=\"-542.8\" font-family=\"Helvetica,sans-Serif\" font-size=\"14.00\">gini = 0.42</text>\n<text text-anchor=\"middle\" x=\"396.5\" y=\"-527.8\" font-family=\"Helvetica,sans-Serif\" font-size=\"14.00\">samples = 10</text>\n<text text-anchor=\"middle\" x=\"396.5\" y=\"-512.8\" font-family=\"Helvetica,sans-Serif\" font-size=\"14.00\">value = [7, 3]</text>\n</g>\n<!-- 11&#45;&gt;13 -->\n<g id=\"edge13\" class=\"edge\">\n<title>11&#45;&gt;13</title>\n<path fill=\"none\" stroke=\"black\" d=\"M360.71,-608.88C365.1,-600.42 369.89,-591.21 374.49,-582.35\"/>\n<polygon fill=\"black\" stroke=\"black\" points=\"377.69,-583.79 379.2,-573.3 371.48,-580.56 377.69,-583.79\"/>\n</g>\n<!-- 14 -->\n<g id=\"node15\" class=\"node\">\n<title>14</title>\n<polygon fill=\"#e99355\" stroke=\"black\" points=\"408.5,-469 300.5,-469 300.5,-401 408.5,-401 408.5,-469\"/>\n<text text-anchor=\"middle\" x=\"354.5\" y=\"-453.8\" font-family=\"Helvetica,sans-Serif\" font-size=\"14.00\">trtbps &lt;= 115.0</text>\n<text text-anchor=\"middle\" x=\"354.5\" y=\"-438.8\" font-family=\"Helvetica,sans-Serif\" font-size=\"14.00\">gini = 0.219</text>\n<text text-anchor=\"middle\" x=\"354.5\" y=\"-423.8\" font-family=\"Helvetica,sans-Serif\" font-size=\"14.00\">samples = 8</text>\n<text text-anchor=\"middle\" x=\"354.5\" y=\"-408.8\" font-family=\"Helvetica,sans-Serif\" font-size=\"14.00\">value = [7, 1]</text>\n</g>\n<!-- 13&#45;&gt;14 -->\n<g id=\"edge14\" class=\"edge\">\n<title>13&#45;&gt;14</title>\n<path fill=\"none\" stroke=\"black\" d=\"M382.86,-504.88C379.42,-496.51 375.67,-487.4 372.05,-478.63\"/>\n<polygon fill=\"black\" stroke=\"black\" points=\"375.26,-477.21 368.21,-469.3 368.78,-479.88 375.26,-477.21\"/>\n</g>\n<!-- 17 -->\n<g id=\"node18\" class=\"node\">\n<title>17</title>\n<polygon fill=\"#399de5\" stroke=\"black\" points=\"522,-461.5 427,-461.5 427,-408.5 522,-408.5 522,-461.5\"/>\n<text text-anchor=\"middle\" x=\"474.5\" y=\"-446.3\" font-family=\"Helvetica,sans-Serif\" font-size=\"14.00\">gini = 0.0</text>\n<text text-anchor=\"middle\" x=\"474.5\" y=\"-431.3\" font-family=\"Helvetica,sans-Serif\" font-size=\"14.00\">samples = 2</text>\n<text text-anchor=\"middle\" x=\"474.5\" y=\"-416.3\" font-family=\"Helvetica,sans-Serif\" font-size=\"14.00\">value = [0, 2]</text>\n</g>\n<!-- 13&#45;&gt;17 -->\n<g id=\"edge17\" class=\"edge\">\n<title>13&#45;&gt;17</title>\n<path fill=\"none\" stroke=\"black\" d=\"M421.82,-504.88C430.49,-493.56 440.18,-480.88 448.87,-469.52\"/>\n<polygon fill=\"black\" stroke=\"black\" points=\"451.69,-471.59 454.98,-461.52 446.13,-467.34 451.69,-471.59\"/>\n</g>\n<!-- 15 -->\n<g id=\"node16\" class=\"node\">\n<title>15</title>\n<polygon fill=\"#399de5\" stroke=\"black\" points=\"373,-357.5 278,-357.5 278,-304.5 373,-304.5 373,-357.5\"/>\n<text text-anchor=\"middle\" x=\"325.5\" y=\"-342.3\" font-family=\"Helvetica,sans-Serif\" font-size=\"14.00\">gini = 0.0</text>\n<text text-anchor=\"middle\" x=\"325.5\" y=\"-327.3\" font-family=\"Helvetica,sans-Serif\" font-size=\"14.00\">samples = 1</text>\n<text text-anchor=\"middle\" x=\"325.5\" y=\"-312.3\" font-family=\"Helvetica,sans-Serif\" font-size=\"14.00\">value = [0, 1]</text>\n</g>\n<!-- 14&#45;&gt;15 -->\n<g id=\"edge15\" class=\"edge\">\n<title>14&#45;&gt;15</title>\n<path fill=\"none\" stroke=\"black\" d=\"M345.08,-400.88C342.02,-390.11 338.61,-378.11 335.5,-367.18\"/>\n<polygon fill=\"black\" stroke=\"black\" points=\"338.86,-366.18 332.76,-357.52 332.12,-368.1 338.86,-366.18\"/>\n</g>\n<!-- 16 -->\n<g id=\"node17\" class=\"node\">\n<title>16</title>\n<polygon fill=\"#e58139\" stroke=\"black\" points=\"486,-357.5 391,-357.5 391,-304.5 486,-304.5 486,-357.5\"/>\n<text text-anchor=\"middle\" x=\"438.5\" y=\"-342.3\" font-family=\"Helvetica,sans-Serif\" font-size=\"14.00\">gini = 0.0</text>\n<text text-anchor=\"middle\" x=\"438.5\" y=\"-327.3\" font-family=\"Helvetica,sans-Serif\" font-size=\"14.00\">samples = 7</text>\n<text text-anchor=\"middle\" x=\"438.5\" y=\"-312.3\" font-family=\"Helvetica,sans-Serif\" font-size=\"14.00\">value = [7, 0]</text>\n</g>\n<!-- 14&#45;&gt;16 -->\n<g id=\"edge16\" class=\"edge\">\n<title>14&#45;&gt;16</title>\n<path fill=\"none\" stroke=\"black\" d=\"M381.77,-400.88C391.1,-389.56 401.54,-376.88 410.89,-365.52\"/>\n<polygon fill=\"black\" stroke=\"black\" points=\"413.83,-367.46 417.48,-357.52 408.42,-363.01 413.83,-367.46\"/>\n</g>\n<!-- 19 -->\n<g id=\"node20\" class=\"node\">\n<title>19</title>\n<polygon fill=\"#ffffff\" stroke=\"black\" points=\"560.5,-677 462.5,-677 462.5,-609 560.5,-609 560.5,-677\"/>\n<text text-anchor=\"middle\" x=\"511.5\" y=\"-661.8\" font-family=\"Helvetica,sans-Serif\" font-size=\"14.00\">age &lt;= 42.0</text>\n<text text-anchor=\"middle\" x=\"511.5\" y=\"-646.8\" font-family=\"Helvetica,sans-Serif\" font-size=\"14.00\">gini = 0.5</text>\n<text text-anchor=\"middle\" x=\"511.5\" y=\"-631.8\" font-family=\"Helvetica,sans-Serif\" font-size=\"14.00\">samples = 10</text>\n<text text-anchor=\"middle\" x=\"511.5\" y=\"-616.8\" font-family=\"Helvetica,sans-Serif\" font-size=\"14.00\">value = [5, 5]</text>\n</g>\n<!-- 18&#45;&gt;19 -->\n<g id=\"edge19\" class=\"edge\">\n<title>18&#45;&gt;19</title>\n<path fill=\"none\" stroke=\"black\" d=\"M551.34,-712.88C546.4,-704.33 541.01,-695.01 535.84,-686.07\"/>\n<polygon fill=\"black\" stroke=\"black\" points=\"538.8,-684.2 530.76,-677.3 532.74,-687.71 538.8,-684.2\"/>\n</g>\n<!-- 24 -->\n<g id=\"node25\" class=\"node\">\n<title>24</title>\n<polygon fill=\"#e58139\" stroke=\"black\" points=\"680.5,-669.5 578.5,-669.5 578.5,-616.5 680.5,-616.5 680.5,-669.5\"/>\n<text text-anchor=\"middle\" x=\"629.5\" y=\"-654.3\" font-family=\"Helvetica,sans-Serif\" font-size=\"14.00\">gini = 0.0</text>\n<text text-anchor=\"middle\" x=\"629.5\" y=\"-639.3\" font-family=\"Helvetica,sans-Serif\" font-size=\"14.00\">samples = 17</text>\n<text text-anchor=\"middle\" x=\"629.5\" y=\"-624.3\" font-family=\"Helvetica,sans-Serif\" font-size=\"14.00\">value = [17, 0]</text>\n</g>\n<!-- 18&#45;&gt;24 -->\n<g id=\"edge24\" class=\"edge\">\n<title>18&#45;&gt;24</title>\n<path fill=\"none\" stroke=\"black\" d=\"M589.66,-712.88C596.08,-701.78 603.26,-689.37 609.73,-678.18\"/>\n<polygon fill=\"black\" stroke=\"black\" points=\"612.76,-679.93 614.74,-669.52 606.7,-676.42 612.76,-679.93\"/>\n</g>\n<!-- 20 -->\n<g id=\"node21\" class=\"node\">\n<title>20</title>\n<polygon fill=\"#e58139\" stroke=\"black\" points=\"559,-565.5 464,-565.5 464,-512.5 559,-512.5 559,-565.5\"/>\n<text text-anchor=\"middle\" x=\"511.5\" y=\"-550.3\" font-family=\"Helvetica,sans-Serif\" font-size=\"14.00\">gini = 0.0</text>\n<text text-anchor=\"middle\" x=\"511.5\" y=\"-535.3\" font-family=\"Helvetica,sans-Serif\" font-size=\"14.00\">samples = 3</text>\n<text text-anchor=\"middle\" x=\"511.5\" y=\"-520.3\" font-family=\"Helvetica,sans-Serif\" font-size=\"14.00\">value = [3, 0]</text>\n</g>\n<!-- 19&#45;&gt;20 -->\n<g id=\"edge20\" class=\"edge\">\n<title>19&#45;&gt;20</title>\n<path fill=\"none\" stroke=\"black\" d=\"M511.5,-608.88C511.5,-598.33 511.5,-586.6 511.5,-575.85\"/>\n<polygon fill=\"black\" stroke=\"black\" points=\"515,-575.52 511.5,-565.52 508,-575.52 515,-575.52\"/>\n</g>\n<!-- 21 -->\n<g id=\"node22\" class=\"node\">\n<title>21</title>\n<polygon fill=\"#88c4ef\" stroke=\"black\" points=\"676,-573 577,-573 577,-505 676,-505 676,-573\"/>\n<text text-anchor=\"middle\" x=\"626.5\" y=\"-557.8\" font-family=\"Helvetica,sans-Serif\" font-size=\"14.00\">chol &lt;= 237.5</text>\n<text text-anchor=\"middle\" x=\"626.5\" y=\"-542.8\" font-family=\"Helvetica,sans-Serif\" font-size=\"14.00\">gini = 0.408</text>\n<text text-anchor=\"middle\" x=\"626.5\" y=\"-527.8\" font-family=\"Helvetica,sans-Serif\" font-size=\"14.00\">samples = 7</text>\n<text text-anchor=\"middle\" x=\"626.5\" y=\"-512.8\" font-family=\"Helvetica,sans-Serif\" font-size=\"14.00\">value = [2, 5]</text>\n</g>\n<!-- 19&#45;&gt;21 -->\n<g id=\"edge21\" class=\"edge\">\n<title>19&#45;&gt;21</title>\n<path fill=\"none\" stroke=\"black\" d=\"M548.84,-608.88C559.18,-599.71 570.52,-589.65 581.26,-580.12\"/>\n<polygon fill=\"black\" stroke=\"black\" points=\"583.8,-582.55 588.96,-573.3 579.15,-577.32 583.8,-582.55\"/>\n</g>\n<!-- 22 -->\n<g id=\"node23\" class=\"node\">\n<title>22</title>\n<polygon fill=\"#399de5\" stroke=\"black\" points=\"661,-461.5 566,-461.5 566,-408.5 661,-408.5 661,-461.5\"/>\n<text text-anchor=\"middle\" x=\"613.5\" y=\"-446.3\" font-family=\"Helvetica,sans-Serif\" font-size=\"14.00\">gini = 0.0</text>\n<text text-anchor=\"middle\" x=\"613.5\" y=\"-431.3\" font-family=\"Helvetica,sans-Serif\" font-size=\"14.00\">samples = 5</text>\n<text text-anchor=\"middle\" x=\"613.5\" y=\"-416.3\" font-family=\"Helvetica,sans-Serif\" font-size=\"14.00\">value = [0, 5]</text>\n</g>\n<!-- 21&#45;&gt;22 -->\n<g id=\"edge22\" class=\"edge\">\n<title>21&#45;&gt;22</title>\n<path fill=\"none\" stroke=\"black\" d=\"M622.28,-504.88C620.92,-494.22 619.41,-482.35 618.03,-471.52\"/>\n<polygon fill=\"black\" stroke=\"black\" points=\"621.49,-471 616.75,-461.52 614.54,-471.88 621.49,-471\"/>\n</g>\n<!-- 23 -->\n<g id=\"node24\" class=\"node\">\n<title>23</title>\n<polygon fill=\"#e58139\" stroke=\"black\" points=\"774,-461.5 679,-461.5 679,-408.5 774,-408.5 774,-461.5\"/>\n<text text-anchor=\"middle\" x=\"726.5\" y=\"-446.3\" font-family=\"Helvetica,sans-Serif\" font-size=\"14.00\">gini = 0.0</text>\n<text text-anchor=\"middle\" x=\"726.5\" y=\"-431.3\" font-family=\"Helvetica,sans-Serif\" font-size=\"14.00\">samples = 2</text>\n<text text-anchor=\"middle\" x=\"726.5\" y=\"-416.3\" font-family=\"Helvetica,sans-Serif\" font-size=\"14.00\">value = [2, 0]</text>\n</g>\n<!-- 21&#45;&gt;23 -->\n<g id=\"edge23\" class=\"edge\">\n<title>21&#45;&gt;23</title>\n<path fill=\"none\" stroke=\"black\" d=\"M658.97,-504.88C670.29,-493.34 682.98,-480.39 694.28,-468.86\"/>\n<polygon fill=\"black\" stroke=\"black\" points=\"696.98,-471.11 701.48,-461.52 691.98,-466.21 696.98,-471.11\"/>\n</g>\n<!-- 26 -->\n<g id=\"node27\" class=\"node\">\n<title>26</title>\n<polygon fill=\"#f6d5bd\" stroke=\"black\" points=\"909,-781 810,-781 810,-713 909,-713 909,-781\"/>\n<text text-anchor=\"middle\" x=\"859.5\" y=\"-765.8\" font-family=\"Helvetica,sans-Serif\" font-size=\"14.00\">chol &lt;= 233.5</text>\n<text text-anchor=\"middle\" x=\"859.5\" y=\"-750.8\" font-family=\"Helvetica,sans-Serif\" font-size=\"14.00\">gini = 0.48</text>\n<text text-anchor=\"middle\" x=\"859.5\" y=\"-735.8\" font-family=\"Helvetica,sans-Serif\" font-size=\"14.00\">samples = 5</text>\n<text text-anchor=\"middle\" x=\"859.5\" y=\"-720.8\" font-family=\"Helvetica,sans-Serif\" font-size=\"14.00\">value = [3, 2]</text>\n</g>\n<!-- 25&#45;&gt;26 -->\n<g id=\"edge26\" class=\"edge\">\n<title>25&#45;&gt;26</title>\n<path fill=\"none\" stroke=\"black\" d=\"M902.72,-816.88C897.3,-808.24 891.39,-798.82 885.72,-789.79\"/>\n<polygon fill=\"black\" stroke=\"black\" points=\"888.67,-787.91 880.39,-781.3 882.74,-791.63 888.67,-787.91\"/>\n</g>\n<!-- 29 -->\n<g id=\"node30\" class=\"node\">\n<title>29</title>\n<polygon fill=\"#e68641\" stroke=\"black\" points=\"1038.5,-781 936.5,-781 936.5,-713 1038.5,-713 1038.5,-781\"/>\n<text text-anchor=\"middle\" x=\"987.5\" y=\"-765.8\" font-family=\"Helvetica,sans-Serif\" font-size=\"14.00\">chol &lt;= 301.5</text>\n<text text-anchor=\"middle\" x=\"987.5\" y=\"-750.8\" font-family=\"Helvetica,sans-Serif\" font-size=\"14.00\">gini = 0.079</text>\n<text text-anchor=\"middle\" x=\"987.5\" y=\"-735.8\" font-family=\"Helvetica,sans-Serif\" font-size=\"14.00\">samples = 73</text>\n<text text-anchor=\"middle\" x=\"987.5\" y=\"-720.8\" font-family=\"Helvetica,sans-Serif\" font-size=\"14.00\">value = [70, 3]</text>\n</g>\n<!-- 25&#45;&gt;29 -->\n<g id=\"edge29\" class=\"edge\">\n<title>25&#45;&gt;29</title>\n<path fill=\"none\" stroke=\"black\" d=\"M944.28,-816.88C949.7,-808.24 955.61,-798.82 961.28,-789.79\"/>\n<polygon fill=\"black\" stroke=\"black\" points=\"964.26,-791.63 966.61,-781.3 958.33,-787.91 964.26,-791.63\"/>\n</g>\n<!-- 27 -->\n<g id=\"node28\" class=\"node\">\n<title>27</title>\n<polygon fill=\"#399de5\" stroke=\"black\" points=\"794,-669.5 699,-669.5 699,-616.5 794,-616.5 794,-669.5\"/>\n<text text-anchor=\"middle\" x=\"746.5\" y=\"-654.3\" font-family=\"Helvetica,sans-Serif\" font-size=\"14.00\">gini = 0.0</text>\n<text text-anchor=\"middle\" x=\"746.5\" y=\"-639.3\" font-family=\"Helvetica,sans-Serif\" font-size=\"14.00\">samples = 2</text>\n<text text-anchor=\"middle\" x=\"746.5\" y=\"-624.3\" font-family=\"Helvetica,sans-Serif\" font-size=\"14.00\">value = [0, 2]</text>\n</g>\n<!-- 26&#45;&gt;27 -->\n<g id=\"edge27\" class=\"edge\">\n<title>26&#45;&gt;27</title>\n<path fill=\"none\" stroke=\"black\" d=\"M822.81,-712.88C809.9,-701.23 795.4,-688.14 782.54,-676.53\"/>\n<polygon fill=\"black\" stroke=\"black\" points=\"784.54,-673.62 774.77,-669.52 779.85,-678.82 784.54,-673.62\"/>\n</g>\n<!-- 28 -->\n<g id=\"node29\" class=\"node\">\n<title>28</title>\n<polygon fill=\"#e58139\" stroke=\"black\" points=\"907,-669.5 812,-669.5 812,-616.5 907,-616.5 907,-669.5\"/>\n<text text-anchor=\"middle\" x=\"859.5\" y=\"-654.3\" font-family=\"Helvetica,sans-Serif\" font-size=\"14.00\">gini = 0.0</text>\n<text text-anchor=\"middle\" x=\"859.5\" y=\"-639.3\" font-family=\"Helvetica,sans-Serif\" font-size=\"14.00\">samples = 3</text>\n<text text-anchor=\"middle\" x=\"859.5\" y=\"-624.3\" font-family=\"Helvetica,sans-Serif\" font-size=\"14.00\">value = [3, 0]</text>\n</g>\n<!-- 26&#45;&gt;28 -->\n<g id=\"edge28\" class=\"edge\">\n<title>26&#45;&gt;28</title>\n<path fill=\"none\" stroke=\"black\" d=\"M859.5,-712.88C859.5,-702.33 859.5,-690.6 859.5,-679.85\"/>\n<polygon fill=\"black\" stroke=\"black\" points=\"863,-679.52 859.5,-669.52 856,-679.52 863,-679.52\"/>\n</g>\n<!-- 30 -->\n<g id=\"node31\" class=\"node\">\n<title>30</title>\n<polygon fill=\"#e5833c\" stroke=\"black\" points=\"1050,-677 925,-677 925,-609 1050,-609 1050,-677\"/>\n<text text-anchor=\"middle\" x=\"987.5\" y=\"-661.8\" font-family=\"Helvetica,sans-Serif\" font-size=\"14.00\">thalachh &lt;= 105.5</text>\n<text text-anchor=\"middle\" x=\"987.5\" y=\"-646.8\" font-family=\"Helvetica,sans-Serif\" font-size=\"14.00\">gini = 0.032</text>\n<text text-anchor=\"middle\" x=\"987.5\" y=\"-631.8\" font-family=\"Helvetica,sans-Serif\" font-size=\"14.00\">samples = 61</text>\n<text text-anchor=\"middle\" x=\"987.5\" y=\"-616.8\" font-family=\"Helvetica,sans-Serif\" font-size=\"14.00\">value = [60, 1]</text>\n</g>\n<!-- 29&#45;&gt;30 -->\n<g id=\"edge30\" class=\"edge\">\n<title>29&#45;&gt;30</title>\n<path fill=\"none\" stroke=\"black\" d=\"M987.5,-712.88C987.5,-704.78 987.5,-695.98 987.5,-687.47\"/>\n<polygon fill=\"black\" stroke=\"black\" points=\"991,-687.3 987.5,-677.3 984,-687.3 991,-687.3\"/>\n</g>\n<!-- 35 -->\n<g id=\"node36\" class=\"node\">\n<title>35</title>\n<polygon fill=\"#ea9a61\" stroke=\"black\" points=\"1170.5,-677 1068.5,-677 1068.5,-609 1170.5,-609 1170.5,-677\"/>\n<text text-anchor=\"middle\" x=\"1119.5\" y=\"-661.8\" font-family=\"Helvetica,sans-Serif\" font-size=\"14.00\">chol &lt;= 303.5</text>\n<text text-anchor=\"middle\" x=\"1119.5\" y=\"-646.8\" font-family=\"Helvetica,sans-Serif\" font-size=\"14.00\">gini = 0.278</text>\n<text text-anchor=\"middle\" x=\"1119.5\" y=\"-631.8\" font-family=\"Helvetica,sans-Serif\" font-size=\"14.00\">samples = 12</text>\n<text text-anchor=\"middle\" x=\"1119.5\" y=\"-616.8\" font-family=\"Helvetica,sans-Serif\" font-size=\"14.00\">value = [10, 2]</text>\n</g>\n<!-- 29&#45;&gt;35 -->\n<g id=\"edge35\" class=\"edge\">\n<title>29&#45;&gt;35</title>\n<path fill=\"none\" stroke=\"black\" d=\"M1030.36,-712.88C1042.46,-703.53 1055.75,-693.26 1068.29,-683.57\"/>\n<polygon fill=\"black\" stroke=\"black\" points=\"1070.63,-686.18 1076.41,-677.3 1066.35,-680.64 1070.63,-686.18\"/>\n</g>\n<!-- 31 -->\n<g id=\"node32\" class=\"node\">\n<title>31</title>\n<polygon fill=\"#e99355\" stroke=\"black\" points=\"918,-573 811,-573 811,-505 918,-505 918,-573\"/>\n<text text-anchor=\"middle\" x=\"864.5\" y=\"-557.8\" font-family=\"Helvetica,sans-Serif\" font-size=\"14.00\">oldpeak &lt;= 0.6</text>\n<text text-anchor=\"middle\" x=\"864.5\" y=\"-542.8\" font-family=\"Helvetica,sans-Serif\" font-size=\"14.00\">gini = 0.219</text>\n<text text-anchor=\"middle\" x=\"864.5\" y=\"-527.8\" font-family=\"Helvetica,sans-Serif\" font-size=\"14.00\">samples = 8</text>\n<text text-anchor=\"middle\" x=\"864.5\" y=\"-512.8\" font-family=\"Helvetica,sans-Serif\" font-size=\"14.00\">value = [7, 1]</text>\n</g>\n<!-- 30&#45;&gt;31 -->\n<g id=\"edge31\" class=\"edge\">\n<title>30&#45;&gt;31</title>\n<path fill=\"none\" stroke=\"black\" d=\"M947.57,-608.88C936.39,-599.62 924.14,-589.45 912.55,-579.85\"/>\n<polygon fill=\"black\" stroke=\"black\" points=\"914.59,-576.99 904.66,-573.3 910.12,-582.38 914.59,-576.99\"/>\n</g>\n<!-- 34 -->\n<g id=\"node35\" class=\"node\">\n<title>34</title>\n<polygon fill=\"#e58139\" stroke=\"black\" points=\"1038.5,-565.5 936.5,-565.5 936.5,-512.5 1038.5,-512.5 1038.5,-565.5\"/>\n<text text-anchor=\"middle\" x=\"987.5\" y=\"-550.3\" font-family=\"Helvetica,sans-Serif\" font-size=\"14.00\">gini = 0.0</text>\n<text text-anchor=\"middle\" x=\"987.5\" y=\"-535.3\" font-family=\"Helvetica,sans-Serif\" font-size=\"14.00\">samples = 53</text>\n<text text-anchor=\"middle\" x=\"987.5\" y=\"-520.3\" font-family=\"Helvetica,sans-Serif\" font-size=\"14.00\">value = [53, 0]</text>\n</g>\n<!-- 30&#45;&gt;34 -->\n<g id=\"edge34\" class=\"edge\">\n<title>30&#45;&gt;34</title>\n<path fill=\"none\" stroke=\"black\" d=\"M987.5,-608.88C987.5,-598.33 987.5,-586.6 987.5,-575.85\"/>\n<polygon fill=\"black\" stroke=\"black\" points=\"991,-575.52 987.5,-565.52 984,-575.52 991,-575.52\"/>\n</g>\n<!-- 32 -->\n<g id=\"node33\" class=\"node\">\n<title>32</title>\n<polygon fill=\"#399de5\" stroke=\"black\" points=\"893,-461.5 798,-461.5 798,-408.5 893,-408.5 893,-461.5\"/>\n<text text-anchor=\"middle\" x=\"845.5\" y=\"-446.3\" font-family=\"Helvetica,sans-Serif\" font-size=\"14.00\">gini = 0.0</text>\n<text text-anchor=\"middle\" x=\"845.5\" y=\"-431.3\" font-family=\"Helvetica,sans-Serif\" font-size=\"14.00\">samples = 1</text>\n<text text-anchor=\"middle\" x=\"845.5\" y=\"-416.3\" font-family=\"Helvetica,sans-Serif\" font-size=\"14.00\">value = [0, 1]</text>\n</g>\n<!-- 31&#45;&gt;32 -->\n<g id=\"edge32\" class=\"edge\">\n<title>31&#45;&gt;32</title>\n<path fill=\"none\" stroke=\"black\" d=\"M858.33,-504.88C856.34,-494.22 854.13,-482.35 852.12,-471.52\"/>\n<polygon fill=\"black\" stroke=\"black\" points=\"855.53,-470.71 850.25,-461.52 848.64,-471.99 855.53,-470.71\"/>\n</g>\n<!-- 33 -->\n<g id=\"node34\" class=\"node\">\n<title>33</title>\n<polygon fill=\"#e58139\" stroke=\"black\" points=\"1006,-461.5 911,-461.5 911,-408.5 1006,-408.5 1006,-461.5\"/>\n<text text-anchor=\"middle\" x=\"958.5\" y=\"-446.3\" font-family=\"Helvetica,sans-Serif\" font-size=\"14.00\">gini = 0.0</text>\n<text text-anchor=\"middle\" x=\"958.5\" y=\"-431.3\" font-family=\"Helvetica,sans-Serif\" font-size=\"14.00\">samples = 7</text>\n<text text-anchor=\"middle\" x=\"958.5\" y=\"-416.3\" font-family=\"Helvetica,sans-Serif\" font-size=\"14.00\">value = [7, 0]</text>\n</g>\n<!-- 31&#45;&gt;33 -->\n<g id=\"edge33\" class=\"edge\">\n<title>31&#45;&gt;33</title>\n<path fill=\"none\" stroke=\"black\" d=\"M895.02,-504.88C905.56,-493.45 917.37,-480.63 927.91,-469.19\"/>\n<polygon fill=\"black\" stroke=\"black\" points=\"930.78,-471.25 934.98,-461.52 925.63,-466.5 930.78,-471.25\"/>\n</g>\n<!-- 36 -->\n<g id=\"node37\" class=\"node\">\n<title>36</title>\n<polygon fill=\"#399de5\" stroke=\"black\" points=\"1152,-565.5 1057,-565.5 1057,-512.5 1152,-512.5 1152,-565.5\"/>\n<text text-anchor=\"middle\" x=\"1104.5\" y=\"-550.3\" font-family=\"Helvetica,sans-Serif\" font-size=\"14.00\">gini = 0.0</text>\n<text text-anchor=\"middle\" x=\"1104.5\" y=\"-535.3\" font-family=\"Helvetica,sans-Serif\" font-size=\"14.00\">samples = 2</text>\n<text text-anchor=\"middle\" x=\"1104.5\" y=\"-520.3\" font-family=\"Helvetica,sans-Serif\" font-size=\"14.00\">value = [0, 2]</text>\n</g>\n<!-- 35&#45;&gt;36 -->\n<g id=\"edge36\" class=\"edge\">\n<title>35&#45;&gt;36</title>\n<path fill=\"none\" stroke=\"black\" d=\"M1114.63,-608.88C1113.06,-598.22 1111.32,-586.35 1109.72,-575.52\"/>\n<polygon fill=\"black\" stroke=\"black\" points=\"1113.17,-574.9 1108.25,-565.52 1106.25,-575.92 1113.17,-574.9\"/>\n</g>\n<!-- 37 -->\n<g id=\"node38\" class=\"node\">\n<title>37</title>\n<polygon fill=\"#e58139\" stroke=\"black\" points=\"1272.5,-565.5 1170.5,-565.5 1170.5,-512.5 1272.5,-512.5 1272.5,-565.5\"/>\n<text text-anchor=\"middle\" x=\"1221.5\" y=\"-550.3\" font-family=\"Helvetica,sans-Serif\" font-size=\"14.00\">gini = 0.0</text>\n<text text-anchor=\"middle\" x=\"1221.5\" y=\"-535.3\" font-family=\"Helvetica,sans-Serif\" font-size=\"14.00\">samples = 10</text>\n<text text-anchor=\"middle\" x=\"1221.5\" y=\"-520.3\" font-family=\"Helvetica,sans-Serif\" font-size=\"14.00\">value = [10, 0]</text>\n</g>\n<!-- 35&#45;&gt;37 -->\n<g id=\"edge37\" class=\"edge\">\n<title>35&#45;&gt;37</title>\n<path fill=\"none\" stroke=\"black\" d=\"M1152.62,-608.88C1164.16,-597.34 1177.11,-584.39 1188.64,-572.86\"/>\n<polygon fill=\"black\" stroke=\"black\" points=\"1191.38,-575.07 1195.98,-565.52 1186.43,-570.12 1191.38,-575.07\"/>\n</g>\n<!-- 39 -->\n<g id=\"node40\" class=\"node\">\n<title>39</title>\n<polygon fill=\"#57ace9\" stroke=\"black\" points=\"1798,-885 1681,-885 1681,-817 1798,-817 1798,-885\"/>\n<text text-anchor=\"middle\" x=\"1739.5\" y=\"-869.8\" font-family=\"Helvetica,sans-Serif\" font-size=\"14.00\">age &lt;= 55.5</text>\n<text text-anchor=\"middle\" x=\"1739.5\" y=\"-854.8\" font-family=\"Helvetica,sans-Serif\" font-size=\"14.00\">gini = 0.229</text>\n<text text-anchor=\"middle\" x=\"1739.5\" y=\"-839.8\" font-family=\"Helvetica,sans-Serif\" font-size=\"14.00\">samples = 121</text>\n<text text-anchor=\"middle\" x=\"1739.5\" y=\"-824.8\" font-family=\"Helvetica,sans-Serif\" font-size=\"14.00\">value = [16, 105]</text>\n</g>\n<!-- 38&#45;&gt;39 -->\n<g id=\"edge39\" class=\"edge\">\n<title>38&#45;&gt;39</title>\n<path fill=\"none\" stroke=\"black\" d=\"M1739.5,-920.88C1739.5,-912.78 1739.5,-903.98 1739.5,-895.47\"/>\n<polygon fill=\"black\" stroke=\"black\" points=\"1743,-895.3 1739.5,-885.3 1736,-895.3 1743,-895.3\"/>\n</g>\n<!-- 68 -->\n<g id=\"node69\" class=\"node\">\n<title>68</title>\n<polygon fill=\"#e3f1fb\" stroke=\"black\" points=\"2214,-885 2089,-885 2089,-817 2214,-817 2214,-885\"/>\n<text text-anchor=\"middle\" x=\"2151.5\" y=\"-869.8\" font-family=\"Helvetica,sans-Serif\" font-size=\"14.00\">thalachh &lt;= 142.5</text>\n<text text-anchor=\"middle\" x=\"2151.5\" y=\"-854.8\" font-family=\"Helvetica,sans-Serif\" font-size=\"14.00\">gini = 0.497</text>\n<text text-anchor=\"middle\" x=\"2151.5\" y=\"-839.8\" font-family=\"Helvetica,sans-Serif\" font-size=\"14.00\">samples = 39</text>\n<text text-anchor=\"middle\" x=\"2151.5\" y=\"-824.8\" font-family=\"Helvetica,sans-Serif\" font-size=\"14.00\">value = [18, 21]</text>\n</g>\n<!-- 38&#45;&gt;68 -->\n<g id=\"edge68\" class=\"edge\">\n<title>38&#45;&gt;68</title>\n<path fill=\"none\" stroke=\"black\" d=\"M1798.09,-939.49C1871.91,-921.22 1998.77,-889.81 2078.73,-870.02\"/>\n<polygon fill=\"black\" stroke=\"black\" points=\"2079.86,-873.34 2088.72,-867.54 2078.18,-866.55 2079.86,-873.34\"/>\n</g>\n<!-- 40 -->\n<g id=\"node41\" class=\"node\">\n<title>40</title>\n<polygon fill=\"#41a1e6\" stroke=\"black\" points=\"1731.5,-781 1617.5,-781 1617.5,-713 1731.5,-713 1731.5,-781\"/>\n<text text-anchor=\"middle\" x=\"1674.5\" y=\"-765.8\" font-family=\"Helvetica,sans-Serif\" font-size=\"14.00\">oldpeak &lt;= 3.55</text>\n<text text-anchor=\"middle\" x=\"1674.5\" y=\"-750.8\" font-family=\"Helvetica,sans-Serif\" font-size=\"14.00\">gini = 0.076</text>\n<text text-anchor=\"middle\" x=\"1674.5\" y=\"-735.8\" font-family=\"Helvetica,sans-Serif\" font-size=\"14.00\">samples = 76</text>\n<text text-anchor=\"middle\" x=\"1674.5\" y=\"-720.8\" font-family=\"Helvetica,sans-Serif\" font-size=\"14.00\">value = [3, 73]</text>\n</g>\n<!-- 39&#45;&gt;40 -->\n<g id=\"edge40\" class=\"edge\">\n<title>39&#45;&gt;40</title>\n<path fill=\"none\" stroke=\"black\" d=\"M1718.4,-816.88C1712.89,-808.24 1706.88,-798.82 1701.13,-789.79\"/>\n<polygon fill=\"black\" stroke=\"black\" points=\"1704.05,-787.85 1695.72,-781.3 1698.14,-791.61 1704.05,-787.85\"/>\n</g>\n<!-- 53 -->\n<g id=\"node54\" class=\"node\">\n<title>53</title>\n<polygon fill=\"#89c5f0\" stroke=\"black\" points=\"1866.5,-781 1756.5,-781 1756.5,-713 1866.5,-713 1866.5,-781\"/>\n<text text-anchor=\"middle\" x=\"1811.5\" y=\"-765.8\" font-family=\"Helvetica,sans-Serif\" font-size=\"14.00\">sex &lt;= 0.5</text>\n<text text-anchor=\"middle\" x=\"1811.5\" y=\"-750.8\" font-family=\"Helvetica,sans-Serif\" font-size=\"14.00\">gini = 0.411</text>\n<text text-anchor=\"middle\" x=\"1811.5\" y=\"-735.8\" font-family=\"Helvetica,sans-Serif\" font-size=\"14.00\">samples = 45</text>\n<text text-anchor=\"middle\" x=\"1811.5\" y=\"-720.8\" font-family=\"Helvetica,sans-Serif\" font-size=\"14.00\">value = [13, 32]</text>\n</g>\n<!-- 39&#45;&gt;53 -->\n<g id=\"edge53\" class=\"edge\">\n<title>39&#45;&gt;53</title>\n<path fill=\"none\" stroke=\"black\" d=\"M1762.88,-816.88C1769.04,-808.15 1775.76,-798.62 1782.2,-789.51\"/>\n<polygon fill=\"black\" stroke=\"black\" points=\"1785.09,-791.49 1787.99,-781.3 1779.37,-787.45 1785.09,-791.49\"/>\n</g>\n<!-- 41 -->\n<g id=\"node42\" class=\"node\">\n<title>41</title>\n<polygon fill=\"#3ea0e6\" stroke=\"black\" points=\"1579.5,-677 1477.5,-677 1477.5,-609 1579.5,-609 1579.5,-677\"/>\n<text text-anchor=\"middle\" x=\"1528.5\" y=\"-661.8\" font-family=\"Helvetica,sans-Serif\" font-size=\"14.00\">chol &lt;= 153.0</text>\n<text text-anchor=\"middle\" x=\"1528.5\" y=\"-646.8\" font-family=\"Helvetica,sans-Serif\" font-size=\"14.00\">gini = 0.052</text>\n<text text-anchor=\"middle\" x=\"1528.5\" y=\"-631.8\" font-family=\"Helvetica,sans-Serif\" font-size=\"14.00\">samples = 75</text>\n<text text-anchor=\"middle\" x=\"1528.5\" y=\"-616.8\" font-family=\"Helvetica,sans-Serif\" font-size=\"14.00\">value = [2, 73]</text>\n</g>\n<!-- 40&#45;&gt;41 -->\n<g id=\"edge41\" class=\"edge\">\n<title>40&#45;&gt;41</title>\n<path fill=\"none\" stroke=\"black\" d=\"M1627.1,-712.88C1613.58,-703.44 1598.73,-693.06 1584.74,-683.29\"/>\n<polygon fill=\"black\" stroke=\"black\" points=\"1586.37,-680.16 1576.16,-677.3 1582.36,-685.9 1586.37,-680.16\"/>\n</g>\n<!-- 52 -->\n<g id=\"node53\" class=\"node\">\n<title>52</title>\n<polygon fill=\"#e58139\" stroke=\"black\" points=\"1722,-669.5 1627,-669.5 1627,-616.5 1722,-616.5 1722,-669.5\"/>\n<text text-anchor=\"middle\" x=\"1674.5\" y=\"-654.3\" font-family=\"Helvetica,sans-Serif\" font-size=\"14.00\">gini = 0.0</text>\n<text text-anchor=\"middle\" x=\"1674.5\" y=\"-639.3\" font-family=\"Helvetica,sans-Serif\" font-size=\"14.00\">samples = 1</text>\n<text text-anchor=\"middle\" x=\"1674.5\" y=\"-624.3\" font-family=\"Helvetica,sans-Serif\" font-size=\"14.00\">value = [1, 0]</text>\n</g>\n<!-- 40&#45;&gt;52 -->\n<g id=\"edge52\" class=\"edge\">\n<title>40&#45;&gt;52</title>\n<path fill=\"none\" stroke=\"black\" d=\"M1674.5,-712.88C1674.5,-702.33 1674.5,-690.6 1674.5,-679.85\"/>\n<polygon fill=\"black\" stroke=\"black\" points=\"1678,-679.52 1674.5,-669.52 1671,-679.52 1678,-679.52\"/>\n</g>\n<!-- 42 -->\n<g id=\"node43\" class=\"node\">\n<title>42</title>\n<polygon fill=\"#ffffff\" stroke=\"black\" points=\"1398,-573 1291,-573 1291,-505 1398,-505 1398,-573\"/>\n<text text-anchor=\"middle\" x=\"1344.5\" y=\"-557.8\" font-family=\"Helvetica,sans-Serif\" font-size=\"14.00\">oldpeak &lt;= 0.7</text>\n<text text-anchor=\"middle\" x=\"1344.5\" y=\"-542.8\" font-family=\"Helvetica,sans-Serif\" font-size=\"14.00\">gini = 0.5</text>\n<text text-anchor=\"middle\" x=\"1344.5\" y=\"-527.8\" font-family=\"Helvetica,sans-Serif\" font-size=\"14.00\">samples = 2</text>\n<text text-anchor=\"middle\" x=\"1344.5\" y=\"-512.8\" font-family=\"Helvetica,sans-Serif\" font-size=\"14.00\">value = [1, 1]</text>\n</g>\n<!-- 41&#45;&gt;42 -->\n<g id=\"edge42\" class=\"edge\">\n<title>41&#45;&gt;42</title>\n<path fill=\"none\" stroke=\"black\" d=\"M1477.25,-613.59C1455.47,-601.51 1429.87,-587.32 1407,-574.64\"/>\n<polygon fill=\"black\" stroke=\"black\" points=\"1408.49,-571.47 1398.04,-569.68 1405.09,-577.59 1408.49,-571.47\"/>\n</g>\n<!-- 45 -->\n<g id=\"node46\" class=\"node\">\n<title>45</title>\n<polygon fill=\"#3c9ee5\" stroke=\"black\" points=\"1582.5,-573 1474.5,-573 1474.5,-505 1582.5,-505 1582.5,-573\"/>\n<text text-anchor=\"middle\" x=\"1528.5\" y=\"-557.8\" font-family=\"Helvetica,sans-Serif\" font-size=\"14.00\">trtbps &lt;= 109.0</text>\n<text text-anchor=\"middle\" x=\"1528.5\" y=\"-542.8\" font-family=\"Helvetica,sans-Serif\" font-size=\"14.00\">gini = 0.027</text>\n<text text-anchor=\"middle\" x=\"1528.5\" y=\"-527.8\" font-family=\"Helvetica,sans-Serif\" font-size=\"14.00\">samples = 73</text>\n<text text-anchor=\"middle\" x=\"1528.5\" y=\"-512.8\" font-family=\"Helvetica,sans-Serif\" font-size=\"14.00\">value = [1, 72]</text>\n</g>\n<!-- 41&#45;&gt;45 -->\n<g id=\"edge45\" class=\"edge\">\n<title>41&#45;&gt;45</title>\n<path fill=\"none\" stroke=\"black\" d=\"M1528.5,-608.88C1528.5,-600.78 1528.5,-591.98 1528.5,-583.47\"/>\n<polygon fill=\"black\" stroke=\"black\" points=\"1532,-583.3 1528.5,-573.3 1525,-583.3 1532,-583.3\"/>\n</g>\n<!-- 43 -->\n<g id=\"node44\" class=\"node\">\n<title>43</title>\n<polygon fill=\"#399de5\" stroke=\"black\" points=\"1271,-461.5 1176,-461.5 1176,-408.5 1271,-408.5 1271,-461.5\"/>\n<text text-anchor=\"middle\" x=\"1223.5\" y=\"-446.3\" font-family=\"Helvetica,sans-Serif\" font-size=\"14.00\">gini = 0.0</text>\n<text text-anchor=\"middle\" x=\"1223.5\" y=\"-431.3\" font-family=\"Helvetica,sans-Serif\" font-size=\"14.00\">samples = 1</text>\n<text text-anchor=\"middle\" x=\"1223.5\" y=\"-416.3\" font-family=\"Helvetica,sans-Serif\" font-size=\"14.00\">value = [0, 1]</text>\n</g>\n<!-- 42&#45;&gt;43 -->\n<g id=\"edge43\" class=\"edge\">\n<title>42&#45;&gt;43</title>\n<path fill=\"none\" stroke=\"black\" d=\"M1305.21,-504.88C1291.26,-493.12 1275.57,-479.89 1261.7,-468.2\"/>\n<polygon fill=\"black\" stroke=\"black\" points=\"1263.68,-465.29 1253.77,-461.52 1259.16,-470.64 1263.68,-465.29\"/>\n</g>\n<!-- 44 -->\n<g id=\"node45\" class=\"node\">\n<title>44</title>\n<polygon fill=\"#e58139\" stroke=\"black\" points=\"1384,-461.5 1289,-461.5 1289,-408.5 1384,-408.5 1384,-461.5\"/>\n<text text-anchor=\"middle\" x=\"1336.5\" y=\"-446.3\" font-family=\"Helvetica,sans-Serif\" font-size=\"14.00\">gini = 0.0</text>\n<text text-anchor=\"middle\" x=\"1336.5\" y=\"-431.3\" font-family=\"Helvetica,sans-Serif\" font-size=\"14.00\">samples = 1</text>\n<text text-anchor=\"middle\" x=\"1336.5\" y=\"-416.3\" font-family=\"Helvetica,sans-Serif\" font-size=\"14.00\">value = [1, 0]</text>\n</g>\n<!-- 42&#45;&gt;44 -->\n<g id=\"edge44\" class=\"edge\">\n<title>42&#45;&gt;44</title>\n<path fill=\"none\" stroke=\"black\" d=\"M1341.9,-504.88C1341.07,-494.22 1340.14,-482.35 1339.29,-471.52\"/>\n<polygon fill=\"black\" stroke=\"black\" points=\"1342.77,-471.22 1338.5,-461.52 1335.79,-471.76 1342.77,-471.22\"/>\n</g>\n<!-- 46 -->\n<g id=\"node47\" class=\"node\">\n<title>46</title>\n<polygon fill=\"#61b1ea\" stroke=\"black\" points=\"1527,-469 1402,-469 1402,-401 1527,-401 1527,-469\"/>\n<text text-anchor=\"middle\" x=\"1464.5\" y=\"-453.8\" font-family=\"Helvetica,sans-Serif\" font-size=\"14.00\">thalachh &lt;= 159.5</text>\n<text text-anchor=\"middle\" x=\"1464.5\" y=\"-438.8\" font-family=\"Helvetica,sans-Serif\" font-size=\"14.00\">gini = 0.278</text>\n<text text-anchor=\"middle\" x=\"1464.5\" y=\"-423.8\" font-family=\"Helvetica,sans-Serif\" font-size=\"14.00\">samples = 6</text>\n<text text-anchor=\"middle\" x=\"1464.5\" y=\"-408.8\" font-family=\"Helvetica,sans-Serif\" font-size=\"14.00\">value = [1, 5]</text>\n</g>\n<!-- 45&#45;&gt;46 -->\n<g id=\"edge46\" class=\"edge\">\n<title>45&#45;&gt;46</title>\n<path fill=\"none\" stroke=\"black\" d=\"M1507.72,-504.88C1502.3,-496.24 1496.39,-486.82 1490.72,-477.79\"/>\n<polygon fill=\"black\" stroke=\"black\" points=\"1493.67,-475.91 1485.39,-469.3 1487.74,-479.63 1493.67,-475.91\"/>\n</g>\n<!-- 51 -->\n<g id=\"node52\" class=\"node\">\n<title>51</title>\n<polygon fill=\"#399de5\" stroke=\"black\" points=\"1647.5,-461.5 1545.5,-461.5 1545.5,-408.5 1647.5,-408.5 1647.5,-461.5\"/>\n<text text-anchor=\"middle\" x=\"1596.5\" y=\"-446.3\" font-family=\"Helvetica,sans-Serif\" font-size=\"14.00\">gini = 0.0</text>\n<text text-anchor=\"middle\" x=\"1596.5\" y=\"-431.3\" font-family=\"Helvetica,sans-Serif\" font-size=\"14.00\">samples = 67</text>\n<text text-anchor=\"middle\" x=\"1596.5\" y=\"-416.3\" font-family=\"Helvetica,sans-Serif\" font-size=\"14.00\">value = [0, 67]</text>\n</g>\n<!-- 45&#45;&gt;51 -->\n<g id=\"edge51\" class=\"edge\">\n<title>45&#45;&gt;51</title>\n<path fill=\"none\" stroke=\"black\" d=\"M1550.58,-504.88C1558.06,-493.67 1566.42,-481.13 1573.93,-469.85\"/>\n<polygon fill=\"black\" stroke=\"black\" points=\"1576.85,-471.78 1579.49,-461.52 1571.03,-467.9 1576.85,-471.78\"/>\n</g>\n<!-- 47 -->\n<g id=\"node48\" class=\"node\">\n<title>47</title>\n<polygon fill=\"#ffffff\" stroke=\"black\" points=\"1456,-365 1361,-365 1361,-297 1456,-297 1456,-365\"/>\n<text text-anchor=\"middle\" x=\"1408.5\" y=\"-349.8\" font-family=\"Helvetica,sans-Serif\" font-size=\"14.00\">exng &lt;= 0.5</text>\n<text text-anchor=\"middle\" x=\"1408.5\" y=\"-334.8\" font-family=\"Helvetica,sans-Serif\" font-size=\"14.00\">gini = 0.5</text>\n<text text-anchor=\"middle\" x=\"1408.5\" y=\"-319.8\" font-family=\"Helvetica,sans-Serif\" font-size=\"14.00\">samples = 2</text>\n<text text-anchor=\"middle\" x=\"1408.5\" y=\"-304.8\" font-family=\"Helvetica,sans-Serif\" font-size=\"14.00\">value = [1, 1]</text>\n</g>\n<!-- 46&#45;&gt;47 -->\n<g id=\"edge47\" class=\"edge\">\n<title>46&#45;&gt;47</title>\n<path fill=\"none\" stroke=\"black\" d=\"M1446.32,-400.88C1441.62,-392.33 1436.51,-383.01 1431.6,-374.07\"/>\n<polygon fill=\"black\" stroke=\"black\" points=\"1434.66,-372.38 1426.78,-365.3 1428.53,-375.75 1434.66,-372.38\"/>\n</g>\n<!-- 50 -->\n<g id=\"node51\" class=\"node\">\n<title>50</title>\n<polygon fill=\"#399de5\" stroke=\"black\" points=\"1569,-357.5 1474,-357.5 1474,-304.5 1569,-304.5 1569,-357.5\"/>\n<text text-anchor=\"middle\" x=\"1521.5\" y=\"-342.3\" font-family=\"Helvetica,sans-Serif\" font-size=\"14.00\">gini = 0.0</text>\n<text text-anchor=\"middle\" x=\"1521.5\" y=\"-327.3\" font-family=\"Helvetica,sans-Serif\" font-size=\"14.00\">samples = 4</text>\n<text text-anchor=\"middle\" x=\"1521.5\" y=\"-312.3\" font-family=\"Helvetica,sans-Serif\" font-size=\"14.00\">value = [0, 4]</text>\n</g>\n<!-- 46&#45;&gt;50 -->\n<g id=\"edge50\" class=\"edge\">\n<title>46&#45;&gt;50</title>\n<path fill=\"none\" stroke=\"black\" d=\"M1483.01,-400.88C1489.15,-389.89 1496.01,-377.62 1502.21,-366.52\"/>\n<polygon fill=\"black\" stroke=\"black\" points=\"1505.42,-367.96 1507.24,-357.52 1499.31,-364.54 1505.42,-367.96\"/>\n</g>\n<!-- 48 -->\n<g id=\"node49\" class=\"node\">\n<title>48</title>\n<polygon fill=\"#e58139\" stroke=\"black\" points=\"1400,-253.5 1305,-253.5 1305,-200.5 1400,-200.5 1400,-253.5\"/>\n<text text-anchor=\"middle\" x=\"1352.5\" y=\"-238.3\" font-family=\"Helvetica,sans-Serif\" font-size=\"14.00\">gini = 0.0</text>\n<text text-anchor=\"middle\" x=\"1352.5\" y=\"-223.3\" font-family=\"Helvetica,sans-Serif\" font-size=\"14.00\">samples = 1</text>\n<text text-anchor=\"middle\" x=\"1352.5\" y=\"-208.3\" font-family=\"Helvetica,sans-Serif\" font-size=\"14.00\">value = [1, 0]</text>\n</g>\n<!-- 47&#45;&gt;48 -->\n<g id=\"edge48\" class=\"edge\">\n<title>47&#45;&gt;48</title>\n<path fill=\"none\" stroke=\"black\" d=\"M1390.32,-296.88C1384.28,-285.89 1377.54,-273.62 1371.45,-262.52\"/>\n<polygon fill=\"black\" stroke=\"black\" points=\"1374.39,-260.6 1366.51,-253.52 1368.26,-263.97 1374.39,-260.6\"/>\n</g>\n<!-- 49 -->\n<g id=\"node50\" class=\"node\">\n<title>49</title>\n<polygon fill=\"#399de5\" stroke=\"black\" points=\"1513,-253.5 1418,-253.5 1418,-200.5 1513,-200.5 1513,-253.5\"/>\n<text text-anchor=\"middle\" x=\"1465.5\" y=\"-238.3\" font-family=\"Helvetica,sans-Serif\" font-size=\"14.00\">gini = 0.0</text>\n<text text-anchor=\"middle\" x=\"1465.5\" y=\"-223.3\" font-family=\"Helvetica,sans-Serif\" font-size=\"14.00\">samples = 1</text>\n<text text-anchor=\"middle\" x=\"1465.5\" y=\"-208.3\" font-family=\"Helvetica,sans-Serif\" font-size=\"14.00\">value = [0, 1]</text>\n</g>\n<!-- 47&#45;&gt;49 -->\n<g id=\"edge49\" class=\"edge\">\n<title>47&#45;&gt;49</title>\n<path fill=\"none\" stroke=\"black\" d=\"M1427.01,-296.88C1433.15,-285.89 1440.01,-273.62 1446.21,-262.52\"/>\n<polygon fill=\"black\" stroke=\"black\" points=\"1449.42,-263.96 1451.24,-253.52 1443.31,-260.54 1449.42,-263.96\"/>\n</g>\n<!-- 54 -->\n<g id=\"node55\" class=\"node\">\n<title>54</title>\n<polygon fill=\"#4da7e8\" stroke=\"black\" points=\"1862.5,-677 1760.5,-677 1760.5,-609 1862.5,-609 1862.5,-677\"/>\n<text text-anchor=\"middle\" x=\"1811.5\" y=\"-661.8\" font-family=\"Helvetica,sans-Serif\" font-size=\"14.00\">age &lt;= 59.0</text>\n<text text-anchor=\"middle\" x=\"1811.5\" y=\"-646.8\" font-family=\"Helvetica,sans-Serif\" font-size=\"14.00\">gini = 0.165</text>\n<text text-anchor=\"middle\" x=\"1811.5\" y=\"-631.8\" font-family=\"Helvetica,sans-Serif\" font-size=\"14.00\">samples = 22</text>\n<text text-anchor=\"middle\" x=\"1811.5\" y=\"-616.8\" font-family=\"Helvetica,sans-Serif\" font-size=\"14.00\">value = [2, 20]</text>\n</g>\n<!-- 53&#45;&gt;54 -->\n<g id=\"edge54\" class=\"edge\">\n<title>53&#45;&gt;54</title>\n<path fill=\"none\" stroke=\"black\" d=\"M1811.5,-712.88C1811.5,-704.78 1811.5,-695.98 1811.5,-687.47\"/>\n<polygon fill=\"black\" stroke=\"black\" points=\"1815,-687.3 1811.5,-677.3 1808,-687.3 1815,-687.3\"/>\n</g>\n<!-- 59 -->\n<g id=\"node60\" class=\"node\">\n<title>59</title>\n<polygon fill=\"#eff7fd\" stroke=\"black\" points=\"2005.5,-677 1895.5,-677 1895.5,-609 2005.5,-609 2005.5,-677\"/>\n<text text-anchor=\"middle\" x=\"1950.5\" y=\"-661.8\" font-family=\"Helvetica,sans-Serif\" font-size=\"14.00\">chol &lt;= 245.5</text>\n<text text-anchor=\"middle\" x=\"1950.5\" y=\"-646.8\" font-family=\"Helvetica,sans-Serif\" font-size=\"14.00\">gini = 0.499</text>\n<text text-anchor=\"middle\" x=\"1950.5\" y=\"-631.8\" font-family=\"Helvetica,sans-Serif\" font-size=\"14.00\">samples = 23</text>\n<text text-anchor=\"middle\" x=\"1950.5\" y=\"-616.8\" font-family=\"Helvetica,sans-Serif\" font-size=\"14.00\">value = [11, 12]</text>\n</g>\n<!-- 53&#45;&gt;59 -->\n<g id=\"edge59\" class=\"edge\">\n<title>53&#45;&gt;59</title>\n<path fill=\"none\" stroke=\"black\" d=\"M1856.63,-712.88C1869.5,-703.44 1883.64,-693.06 1896.96,-683.29\"/>\n<polygon fill=\"black\" stroke=\"black\" points=\"1899.13,-686.04 1905.12,-677.3 1894.99,-680.39 1899.13,-686.04\"/>\n</g>\n<!-- 55 -->\n<g id=\"node56\" class=\"node\">\n<title>55</title>\n<polygon fill=\"#bddef6\" stroke=\"black\" points=\"1761,-573 1666,-573 1666,-505 1761,-505 1761,-573\"/>\n<text text-anchor=\"middle\" x=\"1713.5\" y=\"-557.8\" font-family=\"Helvetica,sans-Serif\" font-size=\"14.00\">caa &lt;= 0.5</text>\n<text text-anchor=\"middle\" x=\"1713.5\" y=\"-542.8\" font-family=\"Helvetica,sans-Serif\" font-size=\"14.00\">gini = 0.48</text>\n<text text-anchor=\"middle\" x=\"1713.5\" y=\"-527.8\" font-family=\"Helvetica,sans-Serif\" font-size=\"14.00\">samples = 5</text>\n<text text-anchor=\"middle\" x=\"1713.5\" y=\"-512.8\" font-family=\"Helvetica,sans-Serif\" font-size=\"14.00\">value = [2, 3]</text>\n</g>\n<!-- 54&#45;&gt;55 -->\n<g id=\"edge55\" class=\"edge\">\n<title>54&#45;&gt;55</title>\n<path fill=\"none\" stroke=\"black\" d=\"M1779.68,-608.88C1771.04,-599.89 1761.58,-590.04 1752.58,-580.68\"/>\n<polygon fill=\"black\" stroke=\"black\" points=\"1754.95,-578.09 1745.49,-573.3 1749.9,-582.94 1754.95,-578.09\"/>\n</g>\n<!-- 58 -->\n<g id=\"node59\" class=\"node\">\n<title>58</title>\n<polygon fill=\"#399de5\" stroke=\"black\" points=\"1881.5,-565.5 1779.5,-565.5 1779.5,-512.5 1881.5,-512.5 1881.5,-565.5\"/>\n<text text-anchor=\"middle\" x=\"1830.5\" y=\"-550.3\" font-family=\"Helvetica,sans-Serif\" font-size=\"14.00\">gini = 0.0</text>\n<text text-anchor=\"middle\" x=\"1830.5\" y=\"-535.3\" font-family=\"Helvetica,sans-Serif\" font-size=\"14.00\">samples = 17</text>\n<text text-anchor=\"middle\" x=\"1830.5\" y=\"-520.3\" font-family=\"Helvetica,sans-Serif\" font-size=\"14.00\">value = [0, 17]</text>\n</g>\n<!-- 54&#45;&gt;58 -->\n<g id=\"edge58\" class=\"edge\">\n<title>54&#45;&gt;58</title>\n<path fill=\"none\" stroke=\"black\" d=\"M1817.67,-608.88C1819.66,-598.22 1821.87,-586.35 1823.88,-575.52\"/>\n<polygon fill=\"black\" stroke=\"black\" points=\"1827.36,-575.99 1825.75,-565.52 1820.47,-574.71 1827.36,-575.99\"/>\n</g>\n<!-- 56 -->\n<g id=\"node57\" class=\"node\">\n<title>56</title>\n<polygon fill=\"#399de5\" stroke=\"black\" points=\"1761,-461.5 1666,-461.5 1666,-408.5 1761,-408.5 1761,-461.5\"/>\n<text text-anchor=\"middle\" x=\"1713.5\" y=\"-446.3\" font-family=\"Helvetica,sans-Serif\" font-size=\"14.00\">gini = 0.0</text>\n<text text-anchor=\"middle\" x=\"1713.5\" y=\"-431.3\" font-family=\"Helvetica,sans-Serif\" font-size=\"14.00\">samples = 3</text>\n<text text-anchor=\"middle\" x=\"1713.5\" y=\"-416.3\" font-family=\"Helvetica,sans-Serif\" font-size=\"14.00\">value = [0, 3]</text>\n</g>\n<!-- 55&#45;&gt;56 -->\n<g id=\"edge56\" class=\"edge\">\n<title>55&#45;&gt;56</title>\n<path fill=\"none\" stroke=\"black\" d=\"M1713.5,-504.88C1713.5,-494.33 1713.5,-482.6 1713.5,-471.85\"/>\n<polygon fill=\"black\" stroke=\"black\" points=\"1717,-471.52 1713.5,-461.52 1710,-471.52 1717,-471.52\"/>\n</g>\n<!-- 57 -->\n<g id=\"node58\" class=\"node\">\n<title>57</title>\n<polygon fill=\"#e58139\" stroke=\"black\" points=\"1874,-461.5 1779,-461.5 1779,-408.5 1874,-408.5 1874,-461.5\"/>\n<text text-anchor=\"middle\" x=\"1826.5\" y=\"-446.3\" font-family=\"Helvetica,sans-Serif\" font-size=\"14.00\">gini = 0.0</text>\n<text text-anchor=\"middle\" x=\"1826.5\" y=\"-431.3\" font-family=\"Helvetica,sans-Serif\" font-size=\"14.00\">samples = 2</text>\n<text text-anchor=\"middle\" x=\"1826.5\" y=\"-416.3\" font-family=\"Helvetica,sans-Serif\" font-size=\"14.00\">value = [2, 0]</text>\n</g>\n<!-- 55&#45;&gt;57 -->\n<g id=\"edge57\" class=\"edge\">\n<title>55&#45;&gt;57</title>\n<path fill=\"none\" stroke=\"black\" d=\"M1750.19,-504.88C1763.1,-493.23 1777.6,-480.14 1790.46,-468.53\"/>\n<polygon fill=\"black\" stroke=\"black\" points=\"1793.15,-470.82 1798.23,-461.52 1788.46,-465.62 1793.15,-470.82\"/>\n</g>\n<!-- 60 -->\n<g id=\"node61\" class=\"node\">\n<title>60</title>\n<polygon fill=\"#8bc6f0\" stroke=\"black\" points=\"2001.5,-573 1899.5,-573 1899.5,-505 2001.5,-505 2001.5,-573\"/>\n<text text-anchor=\"middle\" x=\"1950.5\" y=\"-557.8\" font-family=\"Helvetica,sans-Serif\" font-size=\"14.00\">caa &lt;= 0.5</text>\n<text text-anchor=\"middle\" x=\"1950.5\" y=\"-542.8\" font-family=\"Helvetica,sans-Serif\" font-size=\"14.00\">gini = 0.415</text>\n<text text-anchor=\"middle\" x=\"1950.5\" y=\"-527.8\" font-family=\"Helvetica,sans-Serif\" font-size=\"14.00\">samples = 17</text>\n<text text-anchor=\"middle\" x=\"1950.5\" y=\"-512.8\" font-family=\"Helvetica,sans-Serif\" font-size=\"14.00\">value = [5, 12]</text>\n</g>\n<!-- 59&#45;&gt;60 -->\n<g id=\"edge60\" class=\"edge\">\n<title>59&#45;&gt;60</title>\n<path fill=\"none\" stroke=\"black\" d=\"M1950.5,-608.88C1950.5,-600.78 1950.5,-591.98 1950.5,-583.47\"/>\n<polygon fill=\"black\" stroke=\"black\" points=\"1954,-583.3 1950.5,-573.3 1947,-583.3 1954,-583.3\"/>\n</g>\n<!-- 67 -->\n<g id=\"node68\" class=\"node\">\n<title>67</title>\n<polygon fill=\"#e58139\" stroke=\"black\" points=\"2115,-565.5 2020,-565.5 2020,-512.5 2115,-512.5 2115,-565.5\"/>\n<text text-anchor=\"middle\" x=\"2067.5\" y=\"-550.3\" font-family=\"Helvetica,sans-Serif\" font-size=\"14.00\">gini = 0.0</text>\n<text text-anchor=\"middle\" x=\"2067.5\" y=\"-535.3\" font-family=\"Helvetica,sans-Serif\" font-size=\"14.00\">samples = 6</text>\n<text text-anchor=\"middle\" x=\"2067.5\" y=\"-520.3\" font-family=\"Helvetica,sans-Serif\" font-size=\"14.00\">value = [6, 0]</text>\n</g>\n<!-- 59&#45;&gt;67 -->\n<g id=\"edge67\" class=\"edge\">\n<title>59&#45;&gt;67</title>\n<path fill=\"none\" stroke=\"black\" d=\"M1988.49,-608.88C2001.98,-597.12 2017.15,-583.89 2030.56,-572.2\"/>\n<polygon fill=\"black\" stroke=\"black\" points=\"2032.99,-574.73 2038.23,-565.52 2028.39,-569.45 2032.99,-574.73\"/>\n</g>\n<!-- 61 -->\n<g id=\"node62\" class=\"node\">\n<title>61</title>\n<polygon fill=\"#4ba6e7\" stroke=\"black\" points=\"2006.5,-469 1892.5,-469 1892.5,-401 2006.5,-401 2006.5,-469\"/>\n<text text-anchor=\"middle\" x=\"1949.5\" y=\"-453.8\" font-family=\"Helvetica,sans-Serif\" font-size=\"14.00\">oldpeak &lt;= 2.65</text>\n<text text-anchor=\"middle\" x=\"1949.5\" y=\"-438.8\" font-family=\"Helvetica,sans-Serif\" font-size=\"14.00\">gini = 0.153</text>\n<text text-anchor=\"middle\" x=\"1949.5\" y=\"-423.8\" font-family=\"Helvetica,sans-Serif\" font-size=\"14.00\">samples = 12</text>\n<text text-anchor=\"middle\" x=\"1949.5\" y=\"-408.8\" font-family=\"Helvetica,sans-Serif\" font-size=\"14.00\">value = [1, 11]</text>\n</g>\n<!-- 60&#45;&gt;61 -->\n<g id=\"edge61\" class=\"edge\">\n<title>60&#45;&gt;61</title>\n<path fill=\"none\" stroke=\"black\" d=\"M1950.18,-504.88C1950.1,-496.78 1950.01,-487.98 1949.93,-479.47\"/>\n<polygon fill=\"black\" stroke=\"black\" points=\"1953.42,-479.26 1949.83,-469.3 1946.42,-479.33 1953.42,-479.26\"/>\n</g>\n<!-- 64 -->\n<g id=\"node65\" class=\"node\">\n<title>64</title>\n<polygon fill=\"#eca06a\" stroke=\"black\" points=\"2120,-469 2025,-469 2025,-401 2120,-401 2120,-469\"/>\n<text text-anchor=\"middle\" x=\"2072.5\" y=\"-453.8\" font-family=\"Helvetica,sans-Serif\" font-size=\"14.00\">age &lt;= 65.0</text>\n<text text-anchor=\"middle\" x=\"2072.5\" y=\"-438.8\" font-family=\"Helvetica,sans-Serif\" font-size=\"14.00\">gini = 0.32</text>\n<text text-anchor=\"middle\" x=\"2072.5\" y=\"-423.8\" font-family=\"Helvetica,sans-Serif\" font-size=\"14.00\">samples = 5</text>\n<text text-anchor=\"middle\" x=\"2072.5\" y=\"-408.8\" font-family=\"Helvetica,sans-Serif\" font-size=\"14.00\">value = [4, 1]</text>\n</g>\n<!-- 60&#45;&gt;64 -->\n<g id=\"edge64\" class=\"edge\">\n<title>60&#45;&gt;64</title>\n<path fill=\"none\" stroke=\"black\" d=\"M1990.11,-504.88C2001.19,-495.62 2013.35,-485.45 2024.84,-475.85\"/>\n<polygon fill=\"black\" stroke=\"black\" points=\"2027.24,-478.4 2032.67,-469.3 2022.75,-473.03 2027.24,-478.4\"/>\n</g>\n<!-- 62 -->\n<g id=\"node63\" class=\"node\">\n<title>62</title>\n<polygon fill=\"#399de5\" stroke=\"black\" points=\"1883.5,-357.5 1781.5,-357.5 1781.5,-304.5 1883.5,-304.5 1883.5,-357.5\"/>\n<text text-anchor=\"middle\" x=\"1832.5\" y=\"-342.3\" font-family=\"Helvetica,sans-Serif\" font-size=\"14.00\">gini = 0.0</text>\n<text text-anchor=\"middle\" x=\"1832.5\" y=\"-327.3\" font-family=\"Helvetica,sans-Serif\" font-size=\"14.00\">samples = 11</text>\n<text text-anchor=\"middle\" x=\"1832.5\" y=\"-312.3\" font-family=\"Helvetica,sans-Serif\" font-size=\"14.00\">value = [0, 11]</text>\n</g>\n<!-- 61&#45;&gt;62 -->\n<g id=\"edge62\" class=\"edge\">\n<title>61&#45;&gt;62</title>\n<path fill=\"none\" stroke=\"black\" d=\"M1911.51,-400.88C1898.02,-389.12 1882.85,-375.89 1869.44,-364.2\"/>\n<polygon fill=\"black\" stroke=\"black\" points=\"1871.61,-361.45 1861.77,-357.52 1867.01,-366.73 1871.61,-361.45\"/>\n</g>\n<!-- 63 -->\n<g id=\"node64\" class=\"node\">\n<title>63</title>\n<polygon fill=\"#e58139\" stroke=\"black\" points=\"1997,-357.5 1902,-357.5 1902,-304.5 1997,-304.5 1997,-357.5\"/>\n<text text-anchor=\"middle\" x=\"1949.5\" y=\"-342.3\" font-family=\"Helvetica,sans-Serif\" font-size=\"14.00\">gini = 0.0</text>\n<text text-anchor=\"middle\" x=\"1949.5\" y=\"-327.3\" font-family=\"Helvetica,sans-Serif\" font-size=\"14.00\">samples = 1</text>\n<text text-anchor=\"middle\" x=\"1949.5\" y=\"-312.3\" font-family=\"Helvetica,sans-Serif\" font-size=\"14.00\">value = [1, 0]</text>\n</g>\n<!-- 61&#45;&gt;63 -->\n<g id=\"edge63\" class=\"edge\">\n<title>61&#45;&gt;63</title>\n<path fill=\"none\" stroke=\"black\" d=\"M1949.5,-400.88C1949.5,-390.33 1949.5,-378.6 1949.5,-367.85\"/>\n<polygon fill=\"black\" stroke=\"black\" points=\"1953,-367.52 1949.5,-357.52 1946,-367.52 1953,-367.52\"/>\n</g>\n<!-- 65 -->\n<g id=\"node66\" class=\"node\">\n<title>65</title>\n<polygon fill=\"#e58139\" stroke=\"black\" points=\"2110,-357.5 2015,-357.5 2015,-304.5 2110,-304.5 2110,-357.5\"/>\n<text text-anchor=\"middle\" x=\"2062.5\" y=\"-342.3\" font-family=\"Helvetica,sans-Serif\" font-size=\"14.00\">gini = 0.0</text>\n<text text-anchor=\"middle\" x=\"2062.5\" y=\"-327.3\" font-family=\"Helvetica,sans-Serif\" font-size=\"14.00\">samples = 4</text>\n<text text-anchor=\"middle\" x=\"2062.5\" y=\"-312.3\" font-family=\"Helvetica,sans-Serif\" font-size=\"14.00\">value = [4, 0]</text>\n</g>\n<!-- 64&#45;&gt;65 -->\n<g id=\"edge65\" class=\"edge\">\n<title>64&#45;&gt;65</title>\n<path fill=\"none\" stroke=\"black\" d=\"M2069.25,-400.88C2068.21,-390.22 2067.04,-378.35 2065.98,-367.52\"/>\n<polygon fill=\"black\" stroke=\"black\" points=\"2069.46,-367.13 2065,-357.52 2062.49,-367.81 2069.46,-367.13\"/>\n</g>\n<!-- 66 -->\n<g id=\"node67\" class=\"node\">\n<title>66</title>\n<polygon fill=\"#399de5\" stroke=\"black\" points=\"2223,-357.5 2128,-357.5 2128,-304.5 2223,-304.5 2223,-357.5\"/>\n<text text-anchor=\"middle\" x=\"2175.5\" y=\"-342.3\" font-family=\"Helvetica,sans-Serif\" font-size=\"14.00\">gini = 0.0</text>\n<text text-anchor=\"middle\" x=\"2175.5\" y=\"-327.3\" font-family=\"Helvetica,sans-Serif\" font-size=\"14.00\">samples = 1</text>\n<text text-anchor=\"middle\" x=\"2175.5\" y=\"-312.3\" font-family=\"Helvetica,sans-Serif\" font-size=\"14.00\">value = [0, 1]</text>\n</g>\n<!-- 64&#45;&gt;66 -->\n<g id=\"edge66\" class=\"edge\">\n<title>64&#45;&gt;66</title>\n<path fill=\"none\" stroke=\"black\" d=\"M2105.94,-400.88C2117.6,-389.34 2130.68,-376.39 2142.32,-364.86\"/>\n<polygon fill=\"black\" stroke=\"black\" points=\"2145.09,-367.04 2149.73,-357.52 2140.16,-362.07 2145.09,-367.04\"/>\n</g>\n<!-- 69 -->\n<g id=\"node70\" class=\"node\">\n<title>69</title>\n<polygon fill=\"#e99355\" stroke=\"black\" points=\"2201,-781 2102,-781 2102,-713 2201,-713 2201,-781\"/>\n<text text-anchor=\"middle\" x=\"2151.5\" y=\"-765.8\" font-family=\"Helvetica,sans-Serif\" font-size=\"14.00\">chol &lt;= 311.0</text>\n<text text-anchor=\"middle\" x=\"2151.5\" y=\"-750.8\" font-family=\"Helvetica,sans-Serif\" font-size=\"14.00\">gini = 0.219</text>\n<text text-anchor=\"middle\" x=\"2151.5\" y=\"-735.8\" font-family=\"Helvetica,sans-Serif\" font-size=\"14.00\">samples = 8</text>\n<text text-anchor=\"middle\" x=\"2151.5\" y=\"-720.8\" font-family=\"Helvetica,sans-Serif\" font-size=\"14.00\">value = [7, 1]</text>\n</g>\n<!-- 68&#45;&gt;69 -->\n<g id=\"edge69\" class=\"edge\">\n<title>68&#45;&gt;69</title>\n<path fill=\"none\" stroke=\"black\" d=\"M2151.5,-816.88C2151.5,-808.78 2151.5,-799.98 2151.5,-791.47\"/>\n<polygon fill=\"black\" stroke=\"black\" points=\"2155,-791.3 2151.5,-781.3 2148,-791.3 2155,-791.3\"/>\n</g>\n<!-- 72 -->\n<g id=\"node73\" class=\"node\">\n<title>72</title>\n<polygon fill=\"#a6d3f3\" stroke=\"black\" points=\"2432.5,-781 2318.5,-781 2318.5,-713 2432.5,-713 2432.5,-781\"/>\n<text text-anchor=\"middle\" x=\"2375.5\" y=\"-765.8\" font-family=\"Helvetica,sans-Serif\" font-size=\"14.00\">oldpeak &lt;= 1.95</text>\n<text text-anchor=\"middle\" x=\"2375.5\" y=\"-750.8\" font-family=\"Helvetica,sans-Serif\" font-size=\"14.00\">gini = 0.458</text>\n<text text-anchor=\"middle\" x=\"2375.5\" y=\"-735.8\" font-family=\"Helvetica,sans-Serif\" font-size=\"14.00\">samples = 31</text>\n<text text-anchor=\"middle\" x=\"2375.5\" y=\"-720.8\" font-family=\"Helvetica,sans-Serif\" font-size=\"14.00\">value = [11, 20]</text>\n</g>\n<!-- 68&#45;&gt;72 -->\n<g id=\"edge72\" class=\"edge\">\n<title>68&#45;&gt;72</title>\n<path fill=\"none\" stroke=\"black\" d=\"M2214.19,-821.45C2243.75,-807.99 2279.03,-791.93 2309.05,-778.26\"/>\n<polygon fill=\"black\" stroke=\"black\" points=\"2310.54,-781.43 2318.19,-774.1 2307.64,-775.06 2310.54,-781.43\"/>\n</g>\n<!-- 70 -->\n<g id=\"node71\" class=\"node\">\n<title>70</title>\n<polygon fill=\"#e58139\" stroke=\"black\" points=\"2143,-669.5 2048,-669.5 2048,-616.5 2143,-616.5 2143,-669.5\"/>\n<text text-anchor=\"middle\" x=\"2095.5\" y=\"-654.3\" font-family=\"Helvetica,sans-Serif\" font-size=\"14.00\">gini = 0.0</text>\n<text text-anchor=\"middle\" x=\"2095.5\" y=\"-639.3\" font-family=\"Helvetica,sans-Serif\" font-size=\"14.00\">samples = 7</text>\n<text text-anchor=\"middle\" x=\"2095.5\" y=\"-624.3\" font-family=\"Helvetica,sans-Serif\" font-size=\"14.00\">value = [7, 0]</text>\n</g>\n<!-- 69&#45;&gt;70 -->\n<g id=\"edge70\" class=\"edge\">\n<title>69&#45;&gt;70</title>\n<path fill=\"none\" stroke=\"black\" d=\"M2133.32,-712.88C2127.28,-701.89 2120.54,-689.62 2114.45,-678.52\"/>\n<polygon fill=\"black\" stroke=\"black\" points=\"2117.39,-676.6 2109.51,-669.52 2111.26,-679.97 2117.39,-676.6\"/>\n</g>\n<!-- 71 -->\n<g id=\"node72\" class=\"node\">\n<title>71</title>\n<polygon fill=\"#399de5\" stroke=\"black\" points=\"2256,-669.5 2161,-669.5 2161,-616.5 2256,-616.5 2256,-669.5\"/>\n<text text-anchor=\"middle\" x=\"2208.5\" y=\"-654.3\" font-family=\"Helvetica,sans-Serif\" font-size=\"14.00\">gini = 0.0</text>\n<text text-anchor=\"middle\" x=\"2208.5\" y=\"-639.3\" font-family=\"Helvetica,sans-Serif\" font-size=\"14.00\">samples = 1</text>\n<text text-anchor=\"middle\" x=\"2208.5\" y=\"-624.3\" font-family=\"Helvetica,sans-Serif\" font-size=\"14.00\">value = [0, 1]</text>\n</g>\n<!-- 69&#45;&gt;71 -->\n<g id=\"edge71\" class=\"edge\">\n<title>69&#45;&gt;71</title>\n<path fill=\"none\" stroke=\"black\" d=\"M2170.01,-712.88C2176.15,-701.89 2183.01,-689.62 2189.21,-678.52\"/>\n<polygon fill=\"black\" stroke=\"black\" points=\"2192.42,-679.96 2194.24,-669.52 2186.31,-676.54 2192.42,-679.96\"/>\n</g>\n<!-- 73 -->\n<g id=\"node74\" class=\"node\">\n<title>73</title>\n<polygon fill=\"#82c1ef\" stroke=\"black\" points=\"2429.5,-677 2321.5,-677 2321.5,-609 2429.5,-609 2429.5,-677\"/>\n<text text-anchor=\"middle\" x=\"2375.5\" y=\"-661.8\" font-family=\"Helvetica,sans-Serif\" font-size=\"14.00\">trtbps &lt;= 176.0</text>\n<text text-anchor=\"middle\" x=\"2375.5\" y=\"-646.8\" font-family=\"Helvetica,sans-Serif\" font-size=\"14.00\">gini = 0.393</text>\n<text text-anchor=\"middle\" x=\"2375.5\" y=\"-631.8\" font-family=\"Helvetica,sans-Serif\" font-size=\"14.00\">samples = 26</text>\n<text text-anchor=\"middle\" x=\"2375.5\" y=\"-616.8\" font-family=\"Helvetica,sans-Serif\" font-size=\"14.00\">value = [7, 19]</text>\n</g>\n<!-- 72&#45;&gt;73 -->\n<g id=\"edge73\" class=\"edge\">\n<title>72&#45;&gt;73</title>\n<path fill=\"none\" stroke=\"black\" d=\"M2375.5,-712.88C2375.5,-704.78 2375.5,-695.98 2375.5,-687.47\"/>\n<polygon fill=\"black\" stroke=\"black\" points=\"2379,-687.3 2375.5,-677.3 2372,-687.3 2379,-687.3\"/>\n</g>\n<!-- 88 -->\n<g id=\"node89\" class=\"node\">\n<title>88</title>\n<polygon fill=\"#eca06a\" stroke=\"black\" points=\"2579.5,-677 2471.5,-677 2471.5,-609 2579.5,-609 2579.5,-677\"/>\n<text text-anchor=\"middle\" x=\"2525.5\" y=\"-661.8\" font-family=\"Helvetica,sans-Serif\" font-size=\"14.00\">trtbps &lt;= 159.0</text>\n<text text-anchor=\"middle\" x=\"2525.5\" y=\"-646.8\" font-family=\"Helvetica,sans-Serif\" font-size=\"14.00\">gini = 0.32</text>\n<text text-anchor=\"middle\" x=\"2525.5\" y=\"-631.8\" font-family=\"Helvetica,sans-Serif\" font-size=\"14.00\">samples = 5</text>\n<text text-anchor=\"middle\" x=\"2525.5\" y=\"-616.8\" font-family=\"Helvetica,sans-Serif\" font-size=\"14.00\">value = [4, 1]</text>\n</g>\n<!-- 72&#45;&gt;88 -->\n<g id=\"edge88\" class=\"edge\">\n<title>72&#45;&gt;88</title>\n<path fill=\"none\" stroke=\"black\" d=\"M2424.2,-712.88C2438.29,-703.3 2453.79,-692.76 2468.35,-682.86\"/>\n<polygon fill=\"black\" stroke=\"black\" points=\"2470.49,-685.64 2476.79,-677.12 2466.55,-679.85 2470.49,-685.64\"/>\n</g>\n<!-- 74 -->\n<g id=\"node75\" class=\"node\">\n<title>74</title>\n<polygon fill=\"#6db7ec\" stroke=\"black\" points=\"2346.5,-573 2244.5,-573 2244.5,-505 2346.5,-505 2346.5,-573\"/>\n<text text-anchor=\"middle\" x=\"2295.5\" y=\"-557.8\" font-family=\"Helvetica,sans-Serif\" font-size=\"14.00\">slp &lt;= 1.5</text>\n<text text-anchor=\"middle\" x=\"2295.5\" y=\"-542.8\" font-family=\"Helvetica,sans-Serif\" font-size=\"14.00\">gini = 0.33</text>\n<text text-anchor=\"middle\" x=\"2295.5\" y=\"-527.8\" font-family=\"Helvetica,sans-Serif\" font-size=\"14.00\">samples = 24</text>\n<text text-anchor=\"middle\" x=\"2295.5\" y=\"-512.8\" font-family=\"Helvetica,sans-Serif\" font-size=\"14.00\">value = [5, 19]</text>\n</g>\n<!-- 73&#45;&gt;74 -->\n<g id=\"edge74\" class=\"edge\">\n<title>73&#45;&gt;74</title>\n<path fill=\"none\" stroke=\"black\" d=\"M2349.53,-608.88C2342.61,-600.07 2335.05,-590.43 2327.84,-581.24\"/>\n<polygon fill=\"black\" stroke=\"black\" points=\"2330.54,-579.01 2321.62,-573.3 2325.03,-583.33 2330.54,-579.01\"/>\n</g>\n<!-- 87 -->\n<g id=\"node88\" class=\"node\">\n<title>87</title>\n<polygon fill=\"#e58139\" stroke=\"black\" points=\"2460,-565.5 2365,-565.5 2365,-512.5 2460,-512.5 2460,-565.5\"/>\n<text text-anchor=\"middle\" x=\"2412.5\" y=\"-550.3\" font-family=\"Helvetica,sans-Serif\" font-size=\"14.00\">gini = 0.0</text>\n<text text-anchor=\"middle\" x=\"2412.5\" y=\"-535.3\" font-family=\"Helvetica,sans-Serif\" font-size=\"14.00\">samples = 2</text>\n<text text-anchor=\"middle\" x=\"2412.5\" y=\"-520.3\" font-family=\"Helvetica,sans-Serif\" font-size=\"14.00\">value = [2, 0]</text>\n</g>\n<!-- 73&#45;&gt;87 -->\n<g id=\"edge87\" class=\"edge\">\n<title>73&#45;&gt;87</title>\n<path fill=\"none\" stroke=\"black\" d=\"M2387.51,-608.88C2391.42,-598.11 2395.77,-586.11 2399.74,-575.18\"/>\n<polygon fill=\"black\" stroke=\"black\" points=\"2403.12,-576.11 2403.24,-565.52 2396.54,-573.73 2403.12,-576.11\"/>\n</g>\n<!-- 75 -->\n<g id=\"node76\" class=\"node\">\n<title>75</title>\n<polygon fill=\"#a7d3f3\" stroke=\"black\" points=\"2349,-469 2242,-469 2242,-401 2349,-401 2349,-469\"/>\n<text text-anchor=\"middle\" x=\"2295.5\" y=\"-453.8\" font-family=\"Helvetica,sans-Serif\" font-size=\"14.00\">oldpeak &lt;= 1.1</text>\n<text text-anchor=\"middle\" x=\"2295.5\" y=\"-438.8\" font-family=\"Helvetica,sans-Serif\" font-size=\"14.00\">gini = 0.459</text>\n<text text-anchor=\"middle\" x=\"2295.5\" y=\"-423.8\" font-family=\"Helvetica,sans-Serif\" font-size=\"14.00\">samples = 14</text>\n<text text-anchor=\"middle\" x=\"2295.5\" y=\"-408.8\" font-family=\"Helvetica,sans-Serif\" font-size=\"14.00\">value = [5, 9]</text>\n</g>\n<!-- 74&#45;&gt;75 -->\n<g id=\"edge75\" class=\"edge\">\n<title>74&#45;&gt;75</title>\n<path fill=\"none\" stroke=\"black\" d=\"M2295.5,-504.88C2295.5,-496.78 2295.5,-487.98 2295.5,-479.47\"/>\n<polygon fill=\"black\" stroke=\"black\" points=\"2299,-479.3 2295.5,-469.3 2292,-479.3 2299,-479.3\"/>\n</g>\n<!-- 86 -->\n<g id=\"node87\" class=\"node\">\n<title>86</title>\n<polygon fill=\"#399de5\" stroke=\"black\" points=\"2469.5,-461.5 2367.5,-461.5 2367.5,-408.5 2469.5,-408.5 2469.5,-461.5\"/>\n<text text-anchor=\"middle\" x=\"2418.5\" y=\"-446.3\" font-family=\"Helvetica,sans-Serif\" font-size=\"14.00\">gini = 0.0</text>\n<text text-anchor=\"middle\" x=\"2418.5\" y=\"-431.3\" font-family=\"Helvetica,sans-Serif\" font-size=\"14.00\">samples = 10</text>\n<text text-anchor=\"middle\" x=\"2418.5\" y=\"-416.3\" font-family=\"Helvetica,sans-Serif\" font-size=\"14.00\">value = [0, 10]</text>\n</g>\n<!-- 74&#45;&gt;86 -->\n<g id=\"edge86\" class=\"edge\">\n<title>74&#45;&gt;86</title>\n<path fill=\"none\" stroke=\"black\" d=\"M2335.43,-504.88C2349.63,-493.12 2365.57,-479.89 2379.67,-468.2\"/>\n<polygon fill=\"black\" stroke=\"black\" points=\"2382.26,-470.6 2387.73,-461.52 2377.79,-465.21 2382.26,-470.6\"/>\n</g>\n<!-- 76 -->\n<g id=\"node77\" class=\"node\">\n<title>76</title>\n<polygon fill=\"#ffffff\" stroke=\"black\" points=\"2349.5,-365 2241.5,-365 2241.5,-297 2349.5,-297 2349.5,-365\"/>\n<text text-anchor=\"middle\" x=\"2295.5\" y=\"-349.8\" font-family=\"Helvetica,sans-Serif\" font-size=\"14.00\">trtbps &lt;= 126.5</text>\n<text text-anchor=\"middle\" x=\"2295.5\" y=\"-334.8\" font-family=\"Helvetica,sans-Serif\" font-size=\"14.00\">gini = 0.5</text>\n<text text-anchor=\"middle\" x=\"2295.5\" y=\"-319.8\" font-family=\"Helvetica,sans-Serif\" font-size=\"14.00\">samples = 10</text>\n<text text-anchor=\"middle\" x=\"2295.5\" y=\"-304.8\" font-family=\"Helvetica,sans-Serif\" font-size=\"14.00\">value = [5, 5]</text>\n</g>\n<!-- 75&#45;&gt;76 -->\n<g id=\"edge76\" class=\"edge\">\n<title>75&#45;&gt;76</title>\n<path fill=\"none\" stroke=\"black\" d=\"M2295.5,-400.88C2295.5,-392.78 2295.5,-383.98 2295.5,-375.47\"/>\n<polygon fill=\"black\" stroke=\"black\" points=\"2299,-375.3 2295.5,-365.3 2292,-375.3 2299,-375.3\"/>\n</g>\n<!-- 85 -->\n<g id=\"node86\" class=\"node\">\n<title>85</title>\n<polygon fill=\"#399de5\" stroke=\"black\" points=\"2463,-357.5 2368,-357.5 2368,-304.5 2463,-304.5 2463,-357.5\"/>\n<text text-anchor=\"middle\" x=\"2415.5\" y=\"-342.3\" font-family=\"Helvetica,sans-Serif\" font-size=\"14.00\">gini = 0.0</text>\n<text text-anchor=\"middle\" x=\"2415.5\" y=\"-327.3\" font-family=\"Helvetica,sans-Serif\" font-size=\"14.00\">samples = 4</text>\n<text text-anchor=\"middle\" x=\"2415.5\" y=\"-312.3\" font-family=\"Helvetica,sans-Serif\" font-size=\"14.00\">value = [0, 4]</text>\n</g>\n<!-- 75&#45;&gt;85 -->\n<g id=\"edge85\" class=\"edge\">\n<title>75&#45;&gt;85</title>\n<path fill=\"none\" stroke=\"black\" d=\"M2334.46,-400.88C2348.3,-389.12 2363.86,-375.89 2377.61,-364.2\"/>\n<polygon fill=\"black\" stroke=\"black\" points=\"2380.12,-366.66 2385.48,-357.52 2375.59,-361.33 2380.12,-366.66\"/>\n</g>\n<!-- 77 -->\n<g id=\"node78\" class=\"node\">\n<title>77</title>\n<polygon fill=\"#6ab6ec\" stroke=\"black\" points=\"2288,-261 2181,-261 2181,-193 2288,-193 2288,-261\"/>\n<text text-anchor=\"middle\" x=\"2234.5\" y=\"-245.8\" font-family=\"Helvetica,sans-Serif\" font-size=\"14.00\">oldpeak &lt;= 0.9</text>\n<text text-anchor=\"middle\" x=\"2234.5\" y=\"-230.8\" font-family=\"Helvetica,sans-Serif\" font-size=\"14.00\">gini = 0.32</text>\n<text text-anchor=\"middle\" x=\"2234.5\" y=\"-215.8\" font-family=\"Helvetica,sans-Serif\" font-size=\"14.00\">samples = 5</text>\n<text text-anchor=\"middle\" x=\"2234.5\" y=\"-200.8\" font-family=\"Helvetica,sans-Serif\" font-size=\"14.00\">value = [1, 4]</text>\n</g>\n<!-- 76&#45;&gt;77 -->\n<g id=\"edge77\" class=\"edge\">\n<title>76&#45;&gt;77</title>\n<path fill=\"none\" stroke=\"black\" d=\"M2275.7,-296.88C2270.58,-288.33 2265.01,-279.01 2259.66,-270.07\"/>\n<polygon fill=\"black\" stroke=\"black\" points=\"2262.55,-268.09 2254.41,-261.3 2256.54,-271.68 2262.55,-268.09\"/>\n</g>\n<!-- 80 -->\n<g id=\"node81\" class=\"node\">\n<title>80</title>\n<polygon fill=\"#eca06a\" stroke=\"black\" points=\"2405,-261 2306,-261 2306,-193 2405,-193 2405,-261\"/>\n<text text-anchor=\"middle\" x=\"2355.5\" y=\"-245.8\" font-family=\"Helvetica,sans-Serif\" font-size=\"14.00\">chol &lt;= 228.0</text>\n<text text-anchor=\"middle\" x=\"2355.5\" y=\"-230.8\" font-family=\"Helvetica,sans-Serif\" font-size=\"14.00\">gini = 0.32</text>\n<text text-anchor=\"middle\" x=\"2355.5\" y=\"-215.8\" font-family=\"Helvetica,sans-Serif\" font-size=\"14.00\">samples = 5</text>\n<text text-anchor=\"middle\" x=\"2355.5\" y=\"-200.8\" font-family=\"Helvetica,sans-Serif\" font-size=\"14.00\">value = [4, 1]</text>\n</g>\n<!-- 76&#45;&gt;80 -->\n<g id=\"edge80\" class=\"edge\">\n<title>76&#45;&gt;80</title>\n<path fill=\"none\" stroke=\"black\" d=\"M2314.98,-296.88C2320.01,-288.33 2325.49,-279.01 2330.75,-270.07\"/>\n<polygon fill=\"black\" stroke=\"black\" points=\"2333.86,-271.69 2335.91,-261.3 2327.83,-268.14 2333.86,-271.69\"/>\n</g>\n<!-- 78 -->\n<g id=\"node79\" class=\"node\">\n<title>78</title>\n<polygon fill=\"#399de5\" stroke=\"black\" points=\"2170,-149.5 2075,-149.5 2075,-96.5 2170,-96.5 2170,-149.5\"/>\n<text text-anchor=\"middle\" x=\"2122.5\" y=\"-134.3\" font-family=\"Helvetica,sans-Serif\" font-size=\"14.00\">gini = 0.0</text>\n<text text-anchor=\"middle\" x=\"2122.5\" y=\"-119.3\" font-family=\"Helvetica,sans-Serif\" font-size=\"14.00\">samples = 4</text>\n<text text-anchor=\"middle\" x=\"2122.5\" y=\"-104.3\" font-family=\"Helvetica,sans-Serif\" font-size=\"14.00\">value = [0, 4]</text>\n</g>\n<!-- 77&#45;&gt;78 -->\n<g id=\"edge78\" class=\"edge\">\n<title>77&#45;&gt;78</title>\n<path fill=\"none\" stroke=\"black\" d=\"M2198.14,-192.88C2185.34,-181.23 2170.97,-168.14 2158.22,-156.53\"/>\n<polygon fill=\"black\" stroke=\"black\" points=\"2160.27,-153.67 2150.52,-149.52 2155.56,-158.84 2160.27,-153.67\"/>\n</g>\n<!-- 79 -->\n<g id=\"node80\" class=\"node\">\n<title>79</title>\n<polygon fill=\"#e58139\" stroke=\"black\" points=\"2283,-149.5 2188,-149.5 2188,-96.5 2283,-96.5 2283,-149.5\"/>\n<text text-anchor=\"middle\" x=\"2235.5\" y=\"-134.3\" font-family=\"Helvetica,sans-Serif\" font-size=\"14.00\">gini = 0.0</text>\n<text text-anchor=\"middle\" x=\"2235.5\" y=\"-119.3\" font-family=\"Helvetica,sans-Serif\" font-size=\"14.00\">samples = 1</text>\n<text text-anchor=\"middle\" x=\"2235.5\" y=\"-104.3\" font-family=\"Helvetica,sans-Serif\" font-size=\"14.00\">value = [1, 0]</text>\n</g>\n<!-- 77&#45;&gt;79 -->\n<g id=\"edge79\" class=\"edge\">\n<title>77&#45;&gt;79</title>\n<path fill=\"none\" stroke=\"black\" d=\"M2234.82,-192.88C2234.93,-182.33 2235.04,-170.6 2235.15,-159.85\"/>\n<polygon fill=\"black\" stroke=\"black\" points=\"2238.65,-159.55 2235.25,-149.52 2231.65,-159.49 2238.65,-159.55\"/>\n</g>\n<!-- 81 -->\n<g id=\"node82\" class=\"node\">\n<title>81</title>\n<polygon fill=\"#ffffff\" stroke=\"black\" points=\"2409.5,-157 2301.5,-157 2301.5,-89 2409.5,-89 2409.5,-157\"/>\n<text text-anchor=\"middle\" x=\"2355.5\" y=\"-141.8\" font-family=\"Helvetica,sans-Serif\" font-size=\"14.00\">trtbps &lt;= 161.0</text>\n<text text-anchor=\"middle\" x=\"2355.5\" y=\"-126.8\" font-family=\"Helvetica,sans-Serif\" font-size=\"14.00\">gini = 0.5</text>\n<text text-anchor=\"middle\" x=\"2355.5\" y=\"-111.8\" font-family=\"Helvetica,sans-Serif\" font-size=\"14.00\">samples = 2</text>\n<text text-anchor=\"middle\" x=\"2355.5\" y=\"-96.8\" font-family=\"Helvetica,sans-Serif\" font-size=\"14.00\">value = [1, 1]</text>\n</g>\n<!-- 80&#45;&gt;81 -->\n<g id=\"edge81\" class=\"edge\">\n<title>80&#45;&gt;81</title>\n<path fill=\"none\" stroke=\"black\" d=\"M2355.5,-192.88C2355.5,-184.78 2355.5,-175.98 2355.5,-167.47\"/>\n<polygon fill=\"black\" stroke=\"black\" points=\"2359,-167.3 2355.5,-157.3 2352,-167.3 2359,-167.3\"/>\n</g>\n<!-- 84 -->\n<g id=\"node85\" class=\"node\">\n<title>84</title>\n<polygon fill=\"#e58139\" stroke=\"black\" points=\"2523,-149.5 2428,-149.5 2428,-96.5 2523,-96.5 2523,-149.5\"/>\n<text text-anchor=\"middle\" x=\"2475.5\" y=\"-134.3\" font-family=\"Helvetica,sans-Serif\" font-size=\"14.00\">gini = 0.0</text>\n<text text-anchor=\"middle\" x=\"2475.5\" y=\"-119.3\" font-family=\"Helvetica,sans-Serif\" font-size=\"14.00\">samples = 3</text>\n<text text-anchor=\"middle\" x=\"2475.5\" y=\"-104.3\" font-family=\"Helvetica,sans-Serif\" font-size=\"14.00\">value = [3, 0]</text>\n</g>\n<!-- 80&#45;&gt;84 -->\n<g id=\"edge84\" class=\"edge\">\n<title>80&#45;&gt;84</title>\n<path fill=\"none\" stroke=\"black\" d=\"M2394.46,-192.88C2408.3,-181.12 2423.86,-167.89 2437.61,-156.2\"/>\n<polygon fill=\"black\" stroke=\"black\" points=\"2440.12,-158.66 2445.48,-149.52 2435.59,-153.33 2440.12,-158.66\"/>\n</g>\n<!-- 82 -->\n<g id=\"node83\" class=\"node\">\n<title>82</title>\n<polygon fill=\"#e58139\" stroke=\"black\" points=\"2346,-53 2251,-53 2251,0 2346,0 2346,-53\"/>\n<text text-anchor=\"middle\" x=\"2298.5\" y=\"-37.8\" font-family=\"Helvetica,sans-Serif\" font-size=\"14.00\">gini = 0.0</text>\n<text text-anchor=\"middle\" x=\"2298.5\" y=\"-22.8\" font-family=\"Helvetica,sans-Serif\" font-size=\"14.00\">samples = 1</text>\n<text text-anchor=\"middle\" x=\"2298.5\" y=\"-7.8\" font-family=\"Helvetica,sans-Serif\" font-size=\"14.00\">value = [1, 0]</text>\n</g>\n<!-- 81&#45;&gt;82 -->\n<g id=\"edge82\" class=\"edge\">\n<title>81&#45;&gt;82</title>\n<path fill=\"none\" stroke=\"black\" d=\"M2335.56,-88.95C2330.27,-80.17 2324.53,-70.66 2319.2,-61.82\"/>\n<polygon fill=\"black\" stroke=\"black\" points=\"2322.19,-59.99 2314.02,-53.24 2316.19,-63.61 2322.19,-59.99\"/>\n</g>\n<!-- 83 -->\n<g id=\"node84\" class=\"node\">\n<title>83</title>\n<polygon fill=\"#399de5\" stroke=\"black\" points=\"2459,-53 2364,-53 2364,0 2459,0 2459,-53\"/>\n<text text-anchor=\"middle\" x=\"2411.5\" y=\"-37.8\" font-family=\"Helvetica,sans-Serif\" font-size=\"14.00\">gini = 0.0</text>\n<text text-anchor=\"middle\" x=\"2411.5\" y=\"-22.8\" font-family=\"Helvetica,sans-Serif\" font-size=\"14.00\">samples = 1</text>\n<text text-anchor=\"middle\" x=\"2411.5\" y=\"-7.8\" font-family=\"Helvetica,sans-Serif\" font-size=\"14.00\">value = [0, 1]</text>\n</g>\n<!-- 81&#45;&gt;83 -->\n<g id=\"edge83\" class=\"edge\">\n<title>81&#45;&gt;83</title>\n<path fill=\"none\" stroke=\"black\" d=\"M2375.09,-88.95C2380.24,-80.26 2385.8,-70.86 2391,-62.09\"/>\n<polygon fill=\"black\" stroke=\"black\" points=\"2394.16,-63.62 2396.25,-53.24 2388.14,-60.06 2394.16,-63.62\"/>\n</g>\n<!-- 89 -->\n<g id=\"node90\" class=\"node\">\n<title>89</title>\n<polygon fill=\"#e58139\" stroke=\"black\" points=\"2573,-565.5 2478,-565.5 2478,-512.5 2573,-512.5 2573,-565.5\"/>\n<text text-anchor=\"middle\" x=\"2525.5\" y=\"-550.3\" font-family=\"Helvetica,sans-Serif\" font-size=\"14.00\">gini = 0.0</text>\n<text text-anchor=\"middle\" x=\"2525.5\" y=\"-535.3\" font-family=\"Helvetica,sans-Serif\" font-size=\"14.00\">samples = 4</text>\n<text text-anchor=\"middle\" x=\"2525.5\" y=\"-520.3\" font-family=\"Helvetica,sans-Serif\" font-size=\"14.00\">value = [4, 0]</text>\n</g>\n<!-- 88&#45;&gt;89 -->\n<g id=\"edge89\" class=\"edge\">\n<title>88&#45;&gt;89</title>\n<path fill=\"none\" stroke=\"black\" d=\"M2525.5,-608.88C2525.5,-598.33 2525.5,-586.6 2525.5,-575.85\"/>\n<polygon fill=\"black\" stroke=\"black\" points=\"2529,-575.52 2525.5,-565.52 2522,-575.52 2529,-575.52\"/>\n</g>\n<!-- 90 -->\n<g id=\"node91\" class=\"node\">\n<title>90</title>\n<polygon fill=\"#399de5\" stroke=\"black\" points=\"2686,-565.5 2591,-565.5 2591,-512.5 2686,-512.5 2686,-565.5\"/>\n<text text-anchor=\"middle\" x=\"2638.5\" y=\"-550.3\" font-family=\"Helvetica,sans-Serif\" font-size=\"14.00\">gini = 0.0</text>\n<text text-anchor=\"middle\" x=\"2638.5\" y=\"-535.3\" font-family=\"Helvetica,sans-Serif\" font-size=\"14.00\">samples = 1</text>\n<text text-anchor=\"middle\" x=\"2638.5\" y=\"-520.3\" font-family=\"Helvetica,sans-Serif\" font-size=\"14.00\">value = [0, 1]</text>\n</g>\n<!-- 88&#45;&gt;90 -->\n<g id=\"edge90\" class=\"edge\">\n<title>88&#45;&gt;90</title>\n<path fill=\"none\" stroke=\"black\" d=\"M2562.19,-608.88C2575.1,-597.23 2589.6,-584.14 2602.46,-572.53\"/>\n<polygon fill=\"black\" stroke=\"black\" points=\"2605.15,-574.82 2610.23,-565.52 2600.46,-569.62 2605.15,-574.82\"/>\n</g>\n</g>\n</svg>\n",
            "text/plain": [
              "<graphviz.sources.Source at 0x7fc35902d900>"
            ]
          },
          "metadata": {},
          "execution_count": 15
        }
      ]
    },
    {
      "cell_type": "code",
      "source": [
        "from sklearn.ensemble import RandomForestClassifier"
      ],
      "metadata": {
        "id": "cb3ysyPQ1NVv"
      },
      "execution_count": null,
      "outputs": []
    },
    {
      "cell_type": "code",
      "source": [
        "forest=RandomForestClassifier()\n",
        "model=forest.fit(x,y)\n",
        "model.score(x,y)"
      ],
      "metadata": {
        "colab": {
          "base_uri": "https://localhost:8080/"
        },
        "id": "Gdt9v0ralyhE",
        "outputId": "6fcb36d9-a083-48b8-e143-5f7f1c7d51e2"
      },
      "execution_count": null,
      "outputs": [
        {
          "output_type": "execute_result",
          "data": {
            "text/plain": [
              "1.0"
            ]
          },
          "metadata": {},
          "execution_count": 17
        }
      ]
    },
    {
      "cell_type": "code",
      "source": [
        "forest=RandomForestClassifier(n_estimators=400,max_depth=4)\n",
        "model=forest.fit(x_train,y_train)\n",
        "model.score(x_test,y_test)"
      ],
      "metadata": {
        "colab": {
          "base_uri": "https://localhost:8080/"
        },
        "id": "B-_wDVtEl7fB",
        "outputId": "e08e96be-4a1a-4a70-9313-df91a92e71d4"
      },
      "execution_count": null,
      "outputs": [
        {
          "output_type": "execute_result",
          "data": {
            "text/plain": [
              "0.8681318681318682"
            ]
          },
          "metadata": {},
          "execution_count": 31
        }
      ]
    },
    {
      "cell_type": "code",
      "source": [
        "df.info()"
      ],
      "metadata": {
        "colab": {
          "base_uri": "https://localhost:8080/"
        },
        "id": "ZBSphwEKmFgG",
        "outputId": "2e826039-eba7-44e1-f58e-fa8e1d8919ce"
      },
      "execution_count": null,
      "outputs": [
        {
          "output_type": "stream",
          "name": "stdout",
          "text": [
            "<class 'pandas.core.frame.DataFrame'>\n",
            "RangeIndex: 303 entries, 0 to 302\n",
            "Data columns (total 14 columns):\n",
            " #   Column    Non-Null Count  Dtype  \n",
            "---  ------    --------------  -----  \n",
            " 0   age       303 non-null    int64  \n",
            " 1   sex       303 non-null    int64  \n",
            " 2   cp        303 non-null    int64  \n",
            " 3   trtbps    303 non-null    int64  \n",
            " 4   chol      303 non-null    int64  \n",
            " 5   fbs       303 non-null    int64  \n",
            " 6   restecg   303 non-null    int64  \n",
            " 7   thalachh  303 non-null    int64  \n",
            " 8   exng      303 non-null    int64  \n",
            " 9   oldpeak   303 non-null    float64\n",
            " 10  slp       303 non-null    int64  \n",
            " 11  caa       303 non-null    int64  \n",
            " 12  thall     303 non-null    int64  \n",
            " 13  output    303 non-null    int64  \n",
            "dtypes: float64(1), int64(13)\n",
            "memory usage: 33.3 KB\n"
          ]
        }
      ]
    },
    {
      "cell_type": "code",
      "source": [],
      "metadata": {
        "id": "29KMjiWPoDko"
      },
      "execution_count": null,
      "outputs": []
    }
  ]
}
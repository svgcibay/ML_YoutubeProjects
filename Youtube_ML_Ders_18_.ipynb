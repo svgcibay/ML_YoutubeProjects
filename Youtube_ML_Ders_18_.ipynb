{
  "nbformat": 4,
  "nbformat_minor": 0,
  "metadata": {
    "colab": {
      "provenance": []
    },
    "kernelspec": {
      "name": "python3",
      "display_name": "Python 3"
    },
    "language_info": {
      "name": "python"
    }
  },
  "cells": [
    {
      "cell_type": "code",
      "source": [
        "# NLP CountVectorizer"
      ],
      "metadata": {
        "id": "NYvcztKRbZ0T"
      },
      "execution_count": null,
      "outputs": []
    },
    {
      "cell_type": "code",
      "execution_count": 1,
      "metadata": {
        "id": "ZnRGW3uhaQFt"
      },
      "outputs": [],
      "source": [
        "import pandas as pd\n",
        "import numpy as np\n",
        "from sklearn.feature_extraction.text import CountVectorizer"
      ]
    },
    {
      "cell_type": "code",
      "source": [
        "df=pd.DataFrame()"
      ],
      "metadata": {
        "id": "3Eh7OgW-abow"
      },
      "execution_count": 2,
      "outputs": []
    },
    {
      "cell_type": "code",
      "source": [
        "df['cumleler']=[\"ali bak\",\"ali ata bak\",\"bak ali bak\",\"ali güzel ata bak\",\"ışık ılık süt iç\",\"ışık süt iç\",\"iç ışık iç\"]"
      ],
      "metadata": {
        "id": "E0lDAt8oablx"
      },
      "execution_count": 3,
      "outputs": []
    },
    {
      "cell_type": "code",
      "source": [
        "cv=CountVectorizer(max_features=5)# max_features kaç ane özellik olucağını söyler, gereksiz özellikleri atar\n",
        "# kelimeyi alıp arraya çeviryior ve önem derecesine göre sıralıyor\n"
      ],
      "metadata": {
        "id": "vQ-dtM4Babiz"
      },
      "execution_count": 4,
      "outputs": []
    },
    {
      "cell_type": "code",
      "source": [
        "a=cv.fit_transform(df[\"cumleler\"])"
      ],
      "metadata": {
        "id": "_vfme-EEabgi"
      },
      "execution_count": 5,
      "outputs": []
    },
    {
      "cell_type": "code",
      "source": [
        "a.toarray()"
      ],
      "metadata": {
        "colab": {
          "base_uri": "https://localhost:8080/"
        },
        "id": "rg_wQh0wbnrp",
        "outputId": "383c8075-8e2c-4765-f8cb-2074806a30c8"
      },
      "execution_count": 6,
      "outputs": [
        {
          "output_type": "execute_result",
          "data": {
            "text/plain": [
              "array([[1, 0, 1, 0, 0],\n",
              "       [1, 1, 1, 0, 0],\n",
              "       [1, 0, 2, 0, 0],\n",
              "       [1, 1, 1, 0, 0],\n",
              "       [0, 0, 0, 1, 1],\n",
              "       [0, 0, 0, 1, 1],\n",
              "       [0, 0, 0, 2, 1]])"
            ]
          },
          "metadata": {},
          "execution_count": 6
        }
      ]
    },
    {
      "cell_type": "code",
      "source": [
        "x=a.toarray() #array çecirilen datafremi gösterir"
      ],
      "metadata": {
        "id": "6uYH2VdJabfF"
      },
      "execution_count": 7,
      "outputs": []
    },
    {
      "cell_type": "code",
      "source": [
        "cv.get_feature_names_out() #önemli kelimeleri bize gösterir"
      ],
      "metadata": {
        "colab": {
          "base_uri": "https://localhost:8080/"
        },
        "id": "OQfus5nxabb6",
        "outputId": "a22acdc4-3f70-4152-957b-2bb5072c6432"
      },
      "execution_count": 8,
      "outputs": [
        {
          "output_type": "execute_result",
          "data": {
            "text/plain": [
              "array(['ali', 'ata', 'bak', 'iç', 'ışık'], dtype=object)"
            ]
          },
          "metadata": {},
          "execution_count": 8
        }
      ]
    },
    {
      "cell_type": "code",
      "source": [
        "# stop wods : doğası gereği çok kullanılan kelimeler. ne mesela fakat gibi kelimeler yoğun kkllanılır ama önemsiz kelimelerdir\n",
        "# böyle cüleler varsa kaldırmamız gerekiyor"
      ],
      "metadata": {
        "id": "GDFu8ntAabZi"
      },
      "execution_count": 9,
      "outputs": []
    },
    {
      "cell_type": "code",
      "source": [],
      "metadata": {
        "id": "Tq1TJvU9c5dC"
      },
      "execution_count": null,
      "outputs": []
    }
  ]
}